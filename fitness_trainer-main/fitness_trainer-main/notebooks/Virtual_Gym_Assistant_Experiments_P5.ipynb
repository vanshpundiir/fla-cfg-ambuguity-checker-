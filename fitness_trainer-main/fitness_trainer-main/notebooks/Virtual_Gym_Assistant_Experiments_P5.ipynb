{
 "cells": [
  {
   "cell_type": "markdown",
   "id": "e0ad4f06",
   "metadata": {},
   "source": [
    "## Classification"
   ]
  },
  {
   "cell_type": "code",
   "execution_count": 1,
   "id": "4695be92",
   "metadata": {},
   "outputs": [],
   "source": [
    "import random\n",
    "import numpy as np\n",
    "import pandas as pd\n",
    "import matplotlib.pyplot as plt \n",
    "from sklearn.model_selection import train_test_split\n",
    "from sklearn.preprocessing import LabelEncoder\n",
    "\n",
    "from sklearn.svm import SVC\n",
    "from xgboost import XGBClassifier\n",
    "from sklearn.naive_bayes import MultinomialNB\n",
    "from sklearn.linear_model import SGDClassifier, LogisticRegression\n",
    "from sklearn.neighbors import KNeighborsClassifier\n",
    "from sklearn.model_selection import GridSearchCV, StratifiedShuffleSplit\n",
    "from sklearn.metrics import accuracy_score, confusion_matrix, classification_report"
   ]
  },
  {
   "cell_type": "code",
   "execution_count": 2,
   "id": "c1a303e2",
   "metadata": {},
   "outputs": [],
   "source": [
    "pd.set_option('display.max_columns', None)\n",
    "pd.set_option('display.expand_frame_repr', False)\n",
    "pd.set_option('max_colwidth', None)"
   ]
  },
  {
   "cell_type": "code",
   "execution_count": 3,
   "id": "d6a066bf",
   "metadata": {},
   "outputs": [],
   "source": [
    "# For randomization and re-producability of results\n",
    "random.seed(123)\n",
    "np.random.seed(123)"
   ]
  },
  {
   "cell_type": "code",
   "execution_count": 4,
   "id": "2da112b9",
   "metadata": {},
   "outputs": [],
   "source": [
    "run_results=pd.DataFrame(columns=['Classifier', 'Mean Fit Time(s)', 'Mean Test Time(s)', \n",
    "                'Mean Train Score', 'Mean CV Score', 'Best Train Score','Test Score','F1 Score'])"
   ]
  },
  {
   "cell_type": "code",
   "execution_count": 5,
   "id": "923da460",
   "metadata": {},
   "outputs": [],
   "source": [
    "df_data = pd.read_csv('../resources/data/expanded_data_v2.csv')"
   ]
  },
  {
   "cell_type": "code",
   "execution_count": 6,
   "id": "021f3eec",
   "metadata": {},
   "outputs": [],
   "source": [
    "df_data = df_data.sample(frac=1, random_state=123).reset_index(drop=True)"
   ]
  },
  {
   "cell_type": "code",
   "execution_count": 7,
   "id": "5ad17b95",
   "metadata": {},
   "outputs": [],
   "source": [
    "# check for features which are highly co-related and remove\n",
    "\n",
    "corr_matrix = df_data.corr().abs()\n",
    "upper = corr_matrix.where(np.triu(np.ones(corr_matrix.shape), k=1).astype(bool))\n",
    "cols_to_remove=[column for column in upper.columns if any(upper[column] > 0.97)]"
   ]
  },
  {
   "cell_type": "code",
   "execution_count": 8,
   "id": "39cf2ae0",
   "metadata": {},
   "outputs": [
    {
     "data": {
      "text/plain": [
       "[]"
      ]
     },
     "execution_count": 8,
     "metadata": {},
     "output_type": "execute_result"
    }
   ],
   "source": [
    "cols_to_remove"
   ]
  },
  {
   "cell_type": "code",
   "execution_count": 9,
   "id": "c5811325",
   "metadata": {},
   "outputs": [],
   "source": [
    "df_data = df_data.drop(columns=cols_to_remove)"
   ]
  },
  {
   "cell_type": "code",
   "execution_count": 10,
   "id": "0b0896b9",
   "metadata": {},
   "outputs": [
    {
     "data": {
      "text/plain": [
       "(3500, 34)"
      ]
     },
     "execution_count": 10,
     "metadata": {},
     "output_type": "execute_result"
    }
   ],
   "source": [
    "df_data.shape"
   ]
  },
  {
   "cell_type": "code",
   "execution_count": 11,
   "id": "d1ea3f8c",
   "metadata": {},
   "outputs": [
    {
     "data": {
      "text/html": [
       "<div>\n",
       "<style scoped>\n",
       "    .dataframe tbody tr th:only-of-type {\n",
       "        vertical-align: middle;\n",
       "    }\n",
       "\n",
       "    .dataframe tbody tr th {\n",
       "        vertical-align: top;\n",
       "    }\n",
       "\n",
       "    .dataframe thead th {\n",
       "        text-align: right;\n",
       "    }\n",
       "</style>\n",
       "<table border=\"1\" class=\"dataframe\">\n",
       "  <thead>\n",
       "    <tr style=\"text-align: right;\">\n",
       "      <th></th>\n",
       "      <th>d_core_nose</th>\n",
       "      <th>d_core_lelbow</th>\n",
       "      <th>d_core_relbow</th>\n",
       "      <th>d_core_lwrist</th>\n",
       "      <th>d_core_rwrist</th>\n",
       "      <th>d_core_lknee</th>\n",
       "      <th>d_core_rknee</th>\n",
       "      <th>d_core_lankle</th>\n",
       "      <th>d_core_rankle</th>\n",
       "      <th>d_lshoulder_lwrist</th>\n",
       "      <th>d_rshoulder_rwrist</th>\n",
       "      <th>d_lhip_lelbow</th>\n",
       "      <th>d_rhip_relbow</th>\n",
       "      <th>d_lshoulder_lknee</th>\n",
       "      <th>d_rshoulder_rknee</th>\n",
       "      <th>d_lhip_lankle</th>\n",
       "      <th>d_rhip_rankle</th>\n",
       "      <th>d_lknee_lfidx</th>\n",
       "      <th>d_rknee_rfidx</th>\n",
       "      <th>d_lwrist_rwrist</th>\n",
       "      <th>d_lelbow_relbow</th>\n",
       "      <th>d_lshoulder_rshoulder</th>\n",
       "      <th>d_lhip_rhip</th>\n",
       "      <th>d_lknee_rknee</th>\n",
       "      <th>a_elbows_neck</th>\n",
       "      <th>a_knees_hip</th>\n",
       "      <th>a_spine</th>\n",
       "      <th>a_core_ground</th>\n",
       "      <th>v_left_up</th>\n",
       "      <th>v_left_down</th>\n",
       "      <th>v_right_up</th>\n",
       "      <th>v_right_down</th>\n",
       "      <th>Class</th>\n",
       "      <th>SubClass</th>\n",
       "    </tr>\n",
       "  </thead>\n",
       "  <tbody>\n",
       "    <tr>\n",
       "      <th>0</th>\n",
       "      <td>0.821917</td>\n",
       "      <td>0.240235</td>\n",
       "      <td>0.145781</td>\n",
       "      <td>0.275192</td>\n",
       "      <td>0.268853</td>\n",
       "      <td>1.256654</td>\n",
       "      <td>1.208919</td>\n",
       "      <td>2.133646</td>\n",
       "      <td>1.895589</td>\n",
       "      <td>0.837798</td>\n",
       "      <td>0.741616</td>\n",
       "      <td>0.650276</td>\n",
       "      <td>0.606798</td>\n",
       "      <td>1.786838</td>\n",
       "      <td>1.683875</td>\n",
       "      <td>1.551726</td>\n",
       "      <td>1.340691</td>\n",
       "      <td>0.894373</td>\n",
       "      <td>0.834819</td>\n",
       "      <td>0.006022</td>\n",
       "      <td>0.091019</td>\n",
       "      <td>0.090447</td>\n",
       "      <td>0.031091</td>\n",
       "      <td>0.043890</td>\n",
       "      <td>0.033414</td>\n",
       "      <td>0.970826</td>\n",
       "      <td>0.630864</td>\n",
       "      <td>0.560907</td>\n",
       "      <td>0.998451</td>\n",
       "      <td>0.952736</td>\n",
       "      <td>0.992210</td>\n",
       "      <td>0.623866</td>\n",
       "      <td>lunges</td>\n",
       "      <td>start</td>\n",
       "    </tr>\n",
       "    <tr>\n",
       "      <th>1</th>\n",
       "      <td>0.605611</td>\n",
       "      <td>0.914863</td>\n",
       "      <td>0.605855</td>\n",
       "      <td>0.859605</td>\n",
       "      <td>0.777918</td>\n",
       "      <td>1.072089</td>\n",
       "      <td>1.142277</td>\n",
       "      <td>1.143797</td>\n",
       "      <td>1.088999</td>\n",
       "      <td>0.361755</td>\n",
       "      <td>0.338954</td>\n",
       "      <td>1.412602</td>\n",
       "      <td>1.053164</td>\n",
       "      <td>1.605436</td>\n",
       "      <td>1.500840</td>\n",
       "      <td>0.623412</td>\n",
       "      <td>0.602380</td>\n",
       "      <td>1.059116</td>\n",
       "      <td>0.987218</td>\n",
       "      <td>0.147369</td>\n",
       "      <td>0.377240</td>\n",
       "      <td>0.178048</td>\n",
       "      <td>0.101240</td>\n",
       "      <td>0.016627</td>\n",
       "      <td>0.852375</td>\n",
       "      <td>0.001420</td>\n",
       "      <td>0.769855</td>\n",
       "      <td>0.375635</td>\n",
       "      <td>1.011535</td>\n",
       "      <td>1.015288</td>\n",
       "      <td>0.993032</td>\n",
       "      <td>0.671219</td>\n",
       "      <td>crunches</td>\n",
       "      <td>end</td>\n",
       "    </tr>\n",
       "    <tr>\n",
       "      <th>2</th>\n",
       "      <td>0.993892</td>\n",
       "      <td>0.667778</td>\n",
       "      <td>0.854203</td>\n",
       "      <td>1.036318</td>\n",
       "      <td>1.179891</td>\n",
       "      <td>1.344774</td>\n",
       "      <td>1.364955</td>\n",
       "      <td>2.155819</td>\n",
       "      <td>2.371929</td>\n",
       "      <td>0.753406</td>\n",
       "      <td>0.686450</td>\n",
       "      <td>1.097686</td>\n",
       "      <td>1.180817</td>\n",
       "      <td>1.777668</td>\n",
       "      <td>1.899362</td>\n",
       "      <td>1.649074</td>\n",
       "      <td>1.835984</td>\n",
       "      <td>0.900753</td>\n",
       "      <td>0.984986</td>\n",
       "      <td>0.138010</td>\n",
       "      <td>0.170951</td>\n",
       "      <td>0.177578</td>\n",
       "      <td>0.098258</td>\n",
       "      <td>0.073676</td>\n",
       "      <td>0.991378</td>\n",
       "      <td>0.996908</td>\n",
       "      <td>0.442946</td>\n",
       "      <td>0.215625</td>\n",
       "      <td>0.999175</td>\n",
       "      <td>0.621688</td>\n",
       "      <td>0.998014</td>\n",
       "      <td>0.987327</td>\n",
       "      <td>planks</td>\n",
       "      <td>planks</td>\n",
       "    </tr>\n",
       "    <tr>\n",
       "      <th>3</th>\n",
       "      <td>0.831321</td>\n",
       "      <td>0.115402</td>\n",
       "      <td>0.092763</td>\n",
       "      <td>0.352271</td>\n",
       "      <td>0.275765</td>\n",
       "      <td>1.259532</td>\n",
       "      <td>1.235923</td>\n",
       "      <td>2.029439</td>\n",
       "      <td>1.801466</td>\n",
       "      <td>0.756151</td>\n",
       "      <td>0.730950</td>\n",
       "      <td>0.496015</td>\n",
       "      <td>0.519265</td>\n",
       "      <td>1.647928</td>\n",
       "      <td>1.701989</td>\n",
       "      <td>1.520186</td>\n",
       "      <td>1.284016</td>\n",
       "      <td>0.958697</td>\n",
       "      <td>0.744694</td>\n",
       "      <td>0.099603</td>\n",
       "      <td>0.067411</td>\n",
       "      <td>0.071644</td>\n",
       "      <td>0.041806</td>\n",
       "      <td>0.098106</td>\n",
       "      <td>0.004488</td>\n",
       "      <td>0.008623</td>\n",
       "      <td>0.610965</td>\n",
       "      <td>0.562520</td>\n",
       "      <td>0.979851</td>\n",
       "      <td>0.963220</td>\n",
       "      <td>0.997037</td>\n",
       "      <td>0.702067</td>\n",
       "      <td>squats</td>\n",
       "      <td>start</td>\n",
       "    </tr>\n",
       "    <tr>\n",
       "      <th>4</th>\n",
       "      <td>1.033904</td>\n",
       "      <td>0.810301</td>\n",
       "      <td>0.593412</td>\n",
       "      <td>1.112249</td>\n",
       "      <td>0.961799</td>\n",
       "      <td>1.311834</td>\n",
       "      <td>1.293691</td>\n",
       "      <td>2.123221</td>\n",
       "      <td>2.038520</td>\n",
       "      <td>0.696007</td>\n",
       "      <td>0.686419</td>\n",
       "      <td>1.145276</td>\n",
       "      <td>1.009841</td>\n",
       "      <td>1.855232</td>\n",
       "      <td>1.758999</td>\n",
       "      <td>1.680237</td>\n",
       "      <td>1.539646</td>\n",
       "      <td>0.966781</td>\n",
       "      <td>0.884496</td>\n",
       "      <td>0.140984</td>\n",
       "      <td>0.208352</td>\n",
       "      <td>0.126165</td>\n",
       "      <td>0.060408</td>\n",
       "      <td>0.020436</td>\n",
       "      <td>0.925400</td>\n",
       "      <td>0.996623</td>\n",
       "      <td>0.494231</td>\n",
       "      <td>0.737430</td>\n",
       "      <td>0.999171</td>\n",
       "      <td>0.983033</td>\n",
       "      <td>0.998399</td>\n",
       "      <td>0.658040</td>\n",
       "      <td>planks</td>\n",
       "      <td>planks</td>\n",
       "    </tr>\n",
       "  </tbody>\n",
       "</table>\n",
       "</div>"
      ],
      "text/plain": [
       "   d_core_nose  d_core_lelbow  d_core_relbow  d_core_lwrist  d_core_rwrist  d_core_lknee  d_core_rknee  d_core_lankle  d_core_rankle  d_lshoulder_lwrist  d_rshoulder_rwrist  d_lhip_lelbow  d_rhip_relbow  d_lshoulder_lknee  d_rshoulder_rknee  d_lhip_lankle  d_rhip_rankle  d_lknee_lfidx  d_rknee_rfidx  d_lwrist_rwrist  d_lelbow_relbow  d_lshoulder_rshoulder  d_lhip_rhip  d_lknee_rknee  a_elbows_neck  a_knees_hip   a_spine  a_core_ground  v_left_up  v_left_down  v_right_up  v_right_down     Class SubClass\n",
       "0     0.821917       0.240235       0.145781       0.275192       0.268853      1.256654      1.208919       2.133646       1.895589            0.837798            0.741616       0.650276       0.606798           1.786838           1.683875       1.551726       1.340691       0.894373       0.834819         0.006022         0.091019               0.090447     0.031091       0.043890       0.033414     0.970826  0.630864       0.560907   0.998451     0.952736    0.992210      0.623866    lunges    start\n",
       "1     0.605611       0.914863       0.605855       0.859605       0.777918      1.072089      1.142277       1.143797       1.088999            0.361755            0.338954       1.412602       1.053164           1.605436           1.500840       0.623412       0.602380       1.059116       0.987218         0.147369         0.377240               0.178048     0.101240       0.016627       0.852375     0.001420  0.769855       0.375635   1.011535     1.015288    0.993032      0.671219  crunches      end\n",
       "2     0.993892       0.667778       0.854203       1.036318       1.179891      1.344774      1.364955       2.155819       2.371929            0.753406            0.686450       1.097686       1.180817           1.777668           1.899362       1.649074       1.835984       0.900753       0.984986         0.138010         0.170951               0.177578     0.098258       0.073676       0.991378     0.996908  0.442946       0.215625   0.999175     0.621688    0.998014      0.987327    planks   planks\n",
       "3     0.831321       0.115402       0.092763       0.352271       0.275765      1.259532      1.235923       2.029439       1.801466            0.756151            0.730950       0.496015       0.519265           1.647928           1.701989       1.520186       1.284016       0.958697       0.744694         0.099603         0.067411               0.071644     0.041806       0.098106       0.004488     0.008623  0.610965       0.562520   0.979851     0.963220    0.997037      0.702067    squats    start\n",
       "4     1.033904       0.810301       0.593412       1.112249       0.961799      1.311834      1.293691       2.123221       2.038520            0.696007            0.686419       1.145276       1.009841           1.855232           1.758999       1.680237       1.539646       0.966781       0.884496         0.140984         0.208352               0.126165     0.060408       0.020436       0.925400     0.996623  0.494231       0.737430   0.999171     0.983033    0.998399      0.658040    planks   planks"
      ]
     },
     "execution_count": 11,
     "metadata": {},
     "output_type": "execute_result"
    }
   ],
   "source": [
    "df_data.head()"
   ]
  },
  {
   "cell_type": "code",
   "execution_count": 11,
   "id": "b498beaa",
   "metadata": {},
   "outputs": [],
   "source": [
    "df_data['SubClass'] = df_data['Class']+'-'+df_data['SubClass']"
   ]
  },
  {
   "cell_type": "code",
   "execution_count": 12,
   "id": "5d4e8287",
   "metadata": {},
   "outputs": [
    {
     "data": {
      "text/plain": [
       "random-random          1000\n",
       "planks-planks           500\n",
       "lunges-start            250\n",
       "crunches-end            250\n",
       "squats-start            250\n",
       "lunges-end              250\n",
       "jumping_jacks-end       250\n",
       "crunches-start          250\n",
       "squats-end              250\n",
       "jumping_jacks-start     250\n",
       "Name: SubClass, dtype: int64"
      ]
     },
     "execution_count": 12,
     "metadata": {},
     "output_type": "execute_result"
    }
   ],
   "source": [
    "df_data['SubClass'].value_counts()"
   ]
  },
  {
   "cell_type": "code",
   "execution_count": 13,
   "id": "a484429c",
   "metadata": {},
   "outputs": [],
   "source": [
    "y_train = df_data['SubClass']\n",
    "# x_train = df_data.drop(columns=['Class','SubClass'])\n",
    "x_train = df_data.drop(columns=['SubClass'])"
   ]
  },
  {
   "cell_type": "code",
   "execution_count": 15,
   "id": "21fca3d2",
   "metadata": {},
   "outputs": [],
   "source": [
    "x_train, x_test, y_train, y_test = train_test_split( x_train, \n",
    "                        y_train, train_size=0.7, random_state=123, stratify=y_train)"
   ]
  },
  {
   "cell_type": "code",
   "execution_count": 14,
   "id": "83bdd402",
   "metadata": {},
   "outputs": [
    {
     "data": {
      "text/plain": [
       "LabelEncoder()"
      ]
     },
     "execution_count": 14,
     "metadata": {},
     "output_type": "execute_result"
    }
   ],
   "source": [
    "subclas_encoder = LabelEncoder()\n",
    "subclas_encoder.fit(y_train)"
   ]
  },
  {
   "cell_type": "code",
   "execution_count": 15,
   "id": "7efeecb3",
   "metadata": {},
   "outputs": [
    {
     "data": {
      "text/plain": [
       "LabelEncoder()"
      ]
     },
     "execution_count": 15,
     "metadata": {},
     "output_type": "execute_result"
    }
   ],
   "source": [
    "clas_encoder = LabelEncoder()\n",
    "clas_encoder.fit(x_train['Class'])"
   ]
  },
  {
   "cell_type": "code",
   "execution_count": 16,
   "id": "f187e597",
   "metadata": {},
   "outputs": [],
   "source": [
    "x_train.loc[:,'Class'] = clas_encoder.transform(x_train['Class'])"
   ]
  },
  {
   "cell_type": "code",
   "execution_count": null,
   "id": "ac5669e0",
   "metadata": {},
   "outputs": [],
   "source": [
    "x_test.loc[:,'Class'] = clas_encoder.transform(x_test['Class'])"
   ]
  },
  {
   "cell_type": "code",
   "execution_count": 18,
   "id": "4c235ba8",
   "metadata": {},
   "outputs": [],
   "source": [
    "y_train = subclas_encoder.transform(y_train)"
   ]
  },
  {
   "cell_type": "code",
   "execution_count": 26,
   "id": "a93d92a2",
   "metadata": {},
   "outputs": [],
   "source": [
    "y_test = subclas_encoder.transform(y_test)"
   ]
  },
  {
   "cell_type": "code",
   "execution_count": 27,
   "id": "9762b591",
   "metadata": {},
   "outputs": [],
   "source": [
    "def classifier_analyzer(classifier, params):\n",
    "  ss = StratifiedShuffleSplit(n_splits=5, test_size=0.25, random_state=123)\n",
    "  # we are explicitly passing StratifiedShuffleSplit because we want the CV data to\n",
    "  # shuffles in each split which is not the default behaviour of GridSearchCV \n",
    "  gsCV = GridSearchCV(classifier, params, scoring='roc_auc_ovr', n_jobs=-1, refit=True, \n",
    "                                cv=ss, return_train_score=True, error_score='raise')\n",
    "  gscv_result = gsCV.fit(x_train, y_train).cv_results_\n",
    "  print(\"Mean fit time : %.3fs\" % gscv_result['mean_fit_time'].mean())\n",
    "  print(\"Mean test time : %.3fs\" % gscv_result['mean_score_time'].mean())\n",
    "  print(\"Mean train score : %.3f\" % gscv_result['mean_train_score'].mean())\n",
    "  print(\"Mean CV score : %.3f\" % gscv_result['mean_test_score'].mean())\n",
    "\n",
    "  # Get the train score on the best estimator\n",
    "  print(\"Best Train Score : %.3f\" % accuracy_score(y_train, gsCV.predict(x_train)))\n",
    "\n",
    "  # Get the test score on the best estimator\n",
    "  y_pred = gsCV.predict(x_test)\n",
    "  print(\"Best Test Score  : %.3f\" % accuracy_score(y_test, y_pred))\n",
    "\n",
    "  print(\"Best params : \", gsCV.best_params_)\n",
    "  return y_pred"
   ]
  },
  {
   "cell_type": "code",
   "execution_count": 28,
   "id": "07ef5fda",
   "metadata": {},
   "outputs": [
    {
     "name": "stdout",
     "output_type": "stream",
     "text": [
      "Mean fit time : 0.726s\n",
      "Mean test time : 0.013s\n",
      "Mean train score : 1.000\n",
      "Mean CV score : 1.000\n",
      "Best Train Score : 0.998\n",
      "Best Test Score  : 0.991\n",
      "Best params :  {'penalty': 'l2', 'solver': 'newton-cg'}\n"
     ]
    }
   ],
   "source": [
    "# Logistic Regression\n",
    "\n",
    "lr_clf = LogisticRegression(class_weight='balanced', random_state=123, n_jobs=-1)\n",
    "# not all the combination of penalty and solver will be compatible so we define\n",
    "# a list of params dict. First we fix the solver param, then go to fix C\n",
    "lr_params = [{'penalty' : ['l2'], \n",
    "              'solver':['newton-cg', 'sag', 'lbfgs'] }, \n",
    "             {'penalty' : ['elasticnet'], \n",
    "              'solver':['saga'],\n",
    "              'l1_ratio':[0, 0.25, 0.5, 0.75, 1]}]\n",
    "y_pred = classifier_analyzer(lr_clf, lr_params)"
   ]
  },
  {
   "cell_type": "code",
   "execution_count": 29,
   "id": "3c8904d8",
   "metadata": {},
   "outputs": [
    {
     "name": "stdout",
     "output_type": "stream",
     "text": [
      "Classification Report for the best params : \n",
      "                     precision    recall  f1-score   support\n",
      "\n",
      "       crunches-end       1.00      1.00      1.00        75\n",
      "     crunches-start       1.00      1.00      1.00        75\n",
      "  jumping_jacks-end       1.00      1.00      1.00        75\n",
      "jumping_jacks-start       1.00      1.00      1.00        75\n",
      "         lunges-end       1.00      1.00      1.00        75\n",
      "       lunges-start       1.00      1.00      1.00        75\n",
      "      planks-planks       0.96      1.00      0.98       150\n",
      "      random-random       1.00      0.97      0.98       300\n",
      "         squats-end       0.99      1.00      0.99        75\n",
      "       squats-start       0.99      1.00      0.99        75\n",
      "\n",
      "           accuracy                           0.99      1050\n",
      "          macro avg       0.99      1.00      0.99      1050\n",
      "       weighted avg       0.99      0.99      0.99      1050\n",
      "\n"
     ]
    }
   ],
   "source": [
    "print(\"Classification Report for the best params : \")\n",
    "print(classification_report(y_test, y_pred, target_names=subclas_encoder.classes_))"
   ]
  },
  {
   "cell_type": "code",
   "execution_count": 30,
   "id": "d66ed8a3",
   "metadata": {},
   "outputs": [],
   "source": [
    "run_results.loc[run_results.shape[0]]=['Logistic Reg', 0.726, 0.013, 1.0, \n",
    "                                       1.0, 0.998, 0.991, 0.99]"
   ]
  },
  {
   "cell_type": "code",
   "execution_count": 31,
   "id": "610940ec",
   "metadata": {},
   "outputs": [
    {
     "name": "stdout",
     "output_type": "stream",
     "text": [
      "Mean fit time : 0.007s\n",
      "Mean test time : 0.121s\n",
      "Mean train score : 1.000\n",
      "Mean CV score : 1.000\n",
      "Best Train Score : 1.000\n",
      "Best Test Score  : 1.000\n",
      "Best params :  {'metric': 'cosine', 'n_neighbors': 3, 'weights': 'uniform'}\n"
     ]
    }
   ],
   "source": [
    "# KNN \n",
    "\n",
    "knn_clf = KNeighborsClassifier(n_jobs=-1)\n",
    "knn_params = {'n_neighbors':[3,5,7,10,15], \n",
    "              'weights':['uniform','distance'], \n",
    "             'metric':['cosine','minkowski','euclidean']}\n",
    "\n",
    "y_pred = classifier_analyzer(knn_clf, knn_params)"
   ]
  },
  {
   "cell_type": "code",
   "execution_count": 32,
   "id": "a5156f8e",
   "metadata": {},
   "outputs": [
    {
     "name": "stdout",
     "output_type": "stream",
     "text": [
      "Classification Report for the best params : \n",
      "                     precision    recall  f1-score   support\n",
      "\n",
      "       crunches-end       1.00      1.00      1.00        75\n",
      "     crunches-start       1.00      1.00      1.00        75\n",
      "  jumping_jacks-end       1.00      1.00      1.00        75\n",
      "jumping_jacks-start       1.00      1.00      1.00        75\n",
      "         lunges-end       1.00      1.00      1.00        75\n",
      "       lunges-start       1.00      1.00      1.00        75\n",
      "      planks-planks       1.00      1.00      1.00       150\n",
      "      random-random       1.00      1.00      1.00       300\n",
      "         squats-end       1.00      1.00      1.00        75\n",
      "       squats-start       1.00      1.00      1.00        75\n",
      "\n",
      "           accuracy                           1.00      1050\n",
      "          macro avg       1.00      1.00      1.00      1050\n",
      "       weighted avg       1.00      1.00      1.00      1050\n",
      "\n"
     ]
    }
   ],
   "source": [
    "print(\"Classification Report for the best params : \")\n",
    "print(classification_report(y_test, y_pred, target_names=subclas_encoder.classes_))"
   ]
  },
  {
   "cell_type": "code",
   "execution_count": 33,
   "id": "c53add8f",
   "metadata": {},
   "outputs": [],
   "source": [
    "run_results.loc[run_results.shape[0]]=['kNN', 0.007, 0.121, 1.0, 1.0, \n",
    "                                       1.00, 1.0, 1.0]"
   ]
  },
  {
   "cell_type": "code",
   "execution_count": 34,
   "id": "7524d783",
   "metadata": {},
   "outputs": [
    {
     "name": "stdout",
     "output_type": "stream",
     "text": [
      "Mean fit time : 2.284s\n",
      "Mean test time : 0.112s\n",
      "Mean train score : 0.814\n",
      "Mean CV score : 0.814\n",
      "Best Train Score : 1.000\n",
      "Best Test Score  : 1.000\n",
      "Best params :  {'C': 1, 'kernel': 'poly'}\n"
     ]
    }
   ],
   "source": [
    "# SVM \n",
    "\n",
    "svm_clf = SVC(probability=True, class_weight='balanced', random_state=123)\n",
    "svm_params = {'C':[0.001, 0.01, 0.1, 1, 10], \n",
    "              'kernel':['rbf', 'poly', 'sigmoid']}\n",
    "\n",
    "y_pred = classifier_analyzer(svm_clf, svm_params)"
   ]
  },
  {
   "cell_type": "code",
   "execution_count": 35,
   "id": "974f3bf8",
   "metadata": {},
   "outputs": [
    {
     "name": "stdout",
     "output_type": "stream",
     "text": [
      "Classification Report for the best params : \n",
      "                     precision    recall  f1-score   support\n",
      "\n",
      "       crunches-end       1.00      1.00      1.00        75\n",
      "     crunches-start       1.00      1.00      1.00        75\n",
      "  jumping_jacks-end       1.00      1.00      1.00        75\n",
      "jumping_jacks-start       1.00      1.00      1.00        75\n",
      "         lunges-end       1.00      1.00      1.00        75\n",
      "       lunges-start       1.00      1.00      1.00        75\n",
      "      planks-planks       1.00      1.00      1.00       150\n",
      "      random-random       1.00      1.00      1.00       300\n",
      "         squats-end       1.00      1.00      1.00        75\n",
      "       squats-start       1.00      1.00      1.00        75\n",
      "\n",
      "           accuracy                           1.00      1050\n",
      "          macro avg       1.00      1.00      1.00      1050\n",
      "       weighted avg       1.00      1.00      1.00      1050\n",
      "\n"
     ]
    }
   ],
   "source": [
    "print(\"Classification Report for the best params : \")\n",
    "print(classification_report(y_test, y_pred, target_names=subclas_encoder.classes_))"
   ]
  },
  {
   "cell_type": "code",
   "execution_count": 36,
   "id": "414f67c1",
   "metadata": {},
   "outputs": [],
   "source": [
    "run_results.loc[run_results.shape[0]]=['SVM', 2.284, 0.112, 0.814, \n",
    "                                       0.814, 1.0, 1.0, 1.0]"
   ]
  },
  {
   "cell_type": "code",
   "execution_count": 37,
   "id": "50f14a02",
   "metadata": {},
   "outputs": [
    {
     "name": "stdout",
     "output_type": "stream",
     "text": [
      "Mean fit time : 0.108s\n",
      "Mean test time : 0.014s\n",
      "Mean train score : 0.992\n",
      "Mean CV score : 0.992\n",
      "Best Train Score : 0.984\n",
      "Best Test Score  : 0.974\n",
      "Best params :  {'alpha': 0.0001, 'epsilon': 0.01, 'loss': 'log', 'max_iter': 100, 'penalty': 'elasticnet'}\n"
     ]
    }
   ],
   "source": [
    "# SGD Classifier \n",
    "\n",
    "sgd_clf = SGDClassifier(class_weight='balanced', early_stopping=False, n_jobs=-1, random_state=123)\n",
    "\n",
    "sgd_params = {'loss': ['log', 'modified_huber'], \n",
    "              'penalty': ['l2', 'elasticnet'], \n",
    "              'max_iter': [100, 300, 500, 700],\n",
    "              'alpha': [0.00001, 0.0001, 0.001, 0.01, 0.1], \n",
    "              'epsilon': [0.01, 0.05, 0.1]}\n",
    "\n",
    "y_pred = classifier_analyzer(sgd_clf, sgd_params)"
   ]
  },
  {
   "cell_type": "code",
   "execution_count": 38,
   "id": "4de5fff8",
   "metadata": {},
   "outputs": [
    {
     "name": "stdout",
     "output_type": "stream",
     "text": [
      "Classification Report for the best params : \n",
      "                     precision    recall  f1-score   support\n",
      "\n",
      "       crunches-end       1.00      1.00      1.00        75\n",
      "     crunches-start       1.00      1.00      1.00        75\n",
      "  jumping_jacks-end       1.00      1.00      1.00        75\n",
      "jumping_jacks-start       1.00      1.00      1.00        75\n",
      "         lunges-end       1.00      1.00      1.00        75\n",
      "       lunges-start       1.00      1.00      1.00        75\n",
      "      planks-planks       0.88      1.00      0.93       150\n",
      "      random-random       1.00      0.91      0.95       300\n",
      "         squats-end       0.95      1.00      0.97        75\n",
      "       squats-start       0.99      0.99      0.99        75\n",
      "\n",
      "           accuracy                           0.97      1050\n",
      "          macro avg       0.98      0.99      0.98      1050\n",
      "       weighted avg       0.98      0.97      0.97      1050\n",
      "\n"
     ]
    }
   ],
   "source": [
    "print(\"Classification Report for the best params : \")\n",
    "print(classification_report(y_test, y_pred, target_names=subclas_encoder.classes_))"
   ]
  },
  {
   "cell_type": "code",
   "execution_count": 40,
   "id": "84d5428b",
   "metadata": {},
   "outputs": [],
   "source": [
    "run_results.loc[run_results.shape[0]]=['SGD Classifier', 0.108, 0.014, 0.992, \n",
    "                                       0.992, 0.984, 0.974, 0.97]"
   ]
  },
  {
   "cell_type": "code",
   "execution_count": 44,
   "id": "da9a7b0f",
   "metadata": {},
   "outputs": [
    {
     "name": "stdout",
     "output_type": "stream",
     "text": [
      "[13:16:43] WARNING: ../src/learner.cc:1115: Starting in XGBoost 1.3.0, the default evaluation metric used with the objective 'multi:softprob' was changed from 'merror' to 'mlogloss'. Explicitly set eval_metric if you'd like to restore the old behavior.\n",
      "Mean fit time : 8.288s\n",
      "Mean test time : 0.091s\n",
      "Mean train score : 1.000\n",
      "Mean CV score : 1.000\n",
      "Best Train Score : 1.000\n",
      "Best Test Score  : 0.999\n",
      "Best params :  {'objective': 'binary:logistic'}\n"
     ]
    }
   ],
   "source": [
    "# XGBoost \n",
    "\n",
    "xgb_clf = XGBClassifier(random_state=123, n_jobs=-1, use_label_encoder=False)\n",
    "\n",
    "# First we fix the objective param then, others\n",
    "xgb_params = [{'objective': ['binary:logistic', 'binary:hinge', \n",
    "                            'multi:softprob','multi:softmax']\n",
    "              },{\n",
    "                  'objective' : ['multi:softmax'],\n",
    "                  'num_class' : [len(set(y_train))]\n",
    "              }]\n",
    "\n",
    "y_pred = classifier_analyzer(xgb_clf, xgb_params)"
   ]
  },
  {
   "cell_type": "code",
   "execution_count": 45,
   "id": "327210d7",
   "metadata": {},
   "outputs": [
    {
     "name": "stderr",
     "output_type": "stream",
     "text": [
      "/home/prince/anaconda3/envs/mainEnv/lib/python3.8/site-packages/xgboost/sklearn.py:1224: UserWarning: The use of label encoder in XGBClassifier is deprecated and will be removed in a future release. To remove this warning, do the following: 1) Pass option use_label_encoder=False when constructing XGBClassifier object; and 2) Encode your labels (y) as integers starting with 0, i.e. 0, 1, 2, ..., [num_class - 1].\n",
      "  warnings.warn(label_encoder_deprecation_msg, UserWarning)\n"
     ]
    },
    {
     "name": "stdout",
     "output_type": "stream",
     "text": [
      "[13:21:16] WARNING: ../src/learner.cc:1115: Starting in XGBoost 1.3.0, the default evaluation metric used with the objective 'multi:softprob' was changed from 'merror' to 'mlogloss'. Explicitly set eval_metric if you'd like to restore the old behavior.\n",
      "Mean fit time : 4.729s\n",
      "Mean test time : 0.125s\n",
      "Mean train score : 1.000\n",
      "Mean CV score : 1.000\n",
      "Best Train Score : 1.000\n",
      "Best Test Score  : 0.999\n",
      "Best params :  {'learning_rate': 0.2, 'max_depth': 3, 'n_estimators': 60}\n"
     ]
    }
   ],
   "source": [
    "xgb_clf = XGBClassifier(objective='binary:logistic', random_state=123, n_jobs=-1)\n",
    "\n",
    "# First we fix the objective param then, others\n",
    "xgb_params = {\n",
    "              'max_depth' : [3, 5, 7],\n",
    "              'n_estimators':[5,10,20,35,60],\n",
    "              'learning_rate' : [0.1, 0.2, 0.3, 0.5, 0.7]\n",
    "            }\n",
    "y_pred = classifier_analyzer(xgb_clf, xgb_params)"
   ]
  },
  {
   "cell_type": "code",
   "execution_count": 51,
   "id": "9bb9c9d3",
   "metadata": {},
   "outputs": [
    {
     "name": "stdout",
     "output_type": "stream",
     "text": [
      "Classification Report for the best params : \n",
      "                     precision    recall  f1-score   support\n",
      "\n",
      "       crunches-end       0.99      1.00      0.99        75\n",
      "     crunches-start       1.00      0.99      0.99        75\n",
      "  jumping_jacks-end       1.00      1.00      1.00        75\n",
      "jumping_jacks-start       1.00      1.00      1.00        75\n",
      "         lunges-end       1.00      1.00      1.00        75\n",
      "       lunges-start       1.00      1.00      1.00        75\n",
      "      planks-planks       1.00      1.00      1.00       150\n",
      "      random-random       1.00      1.00      1.00       300\n",
      "         squats-end       1.00      1.00      1.00        75\n",
      "       squats-start       1.00      1.00      1.00        75\n",
      "\n",
      "           accuracy                           1.00      1050\n",
      "          macro avg       1.00      1.00      1.00      1050\n",
      "       weighted avg       1.00      1.00      1.00      1050\n",
      "\n"
     ]
    }
   ],
   "source": [
    "print(\"Classification Report for the best params : \")\n",
    "print(classification_report(y_test, y_pred, target_names=subclas_encoder.classes_))"
   ]
  },
  {
   "cell_type": "code",
   "execution_count": 52,
   "id": "6d1826b7",
   "metadata": {},
   "outputs": [],
   "source": [
    "run_results.loc[run_results.shape[0]]=['XGBoost', 4.729, 0.125, 1.0, 1.0, \n",
    "                                            1.0, 0.99, 1.0]"
   ]
  },
  {
   "cell_type": "code",
   "execution_count": 18,
   "id": "ad61d882",
   "metadata": {},
   "outputs": [
    {
     "name": "stdout",
     "output_type": "stream",
     "text": [
      "[21:21:09] WARNING: ../src/learner.cc:576: \n",
      "Parameters: { \"class_weight\" } might not be used.\n",
      "\n",
      "  This could be a false alarm, with some parameters getting used by language bindings but\n",
      "  then being mistakenly passed down to XGBoost core, or some parameter actually being used\n",
      "  but getting flagged wrongly here. Please open an issue if you find any such cases.\n",
      "\n",
      "\n",
      "[21:21:09] WARNING: ../src/learner.cc:1115: Starting in XGBoost 1.3.0, the default evaluation metric used with the objective 'multi:softprob' was changed from 'merror' to 'mlogloss'. Explicitly set eval_metric if you'd like to restore the old behavior.\n"
     ]
    },
    {
     "data": {
      "text/plain": [
       "XGBClassifier(base_score=0.5, booster='gbtree', class_weight='balanced',\n",
       "              colsample_bylevel=1, colsample_bynode=1, colsample_bytree=1,\n",
       "              enable_categorical=False, gamma=0, gpu_id=-1,\n",
       "              importance_type=None, interaction_constraints='',\n",
       "              learning_rate=0.5, max_delta_step=0, max_depth=3,\n",
       "              min_child_weight=1, missing=nan, monotone_constraints='()',\n",
       "              n_estimators=60, n_jobs=-1, num_parallel_tree=1,\n",
       "              objective='multi:softprob', predictor='auto', random_state=123,\n",
       "              reg_alpha=0, reg_lambda=1, scale_pos_weight=None, subsample=1,\n",
       "              tree_method='exact', use_label_encoder=False,\n",
       "              validate_parameters=1, ...)"
      ]
     },
     "execution_count": 18,
     "metadata": {},
     "output_type": "execute_result"
    }
   ],
   "source": [
    "xgb_clf = XGBClassifier(n_estimators=60, max_depth=3, objective='binary:logistic', \n",
    "                        learning_rate=0.5, class_weight='balanced', \n",
    "                        random_state=123, n_jobs=-1, use_label_encoder=False)\n",
    "\n",
    "xgb_clf.fit(x_train, y_train)"
   ]
  },
  {
   "cell_type": "code",
   "execution_count": 53,
   "id": "50a20dee",
   "metadata": {},
   "outputs": [
    {
     "name": "stdout",
     "output_type": "stream",
     "text": [
      "Mean fit time : 0.020s\n",
      "Mean test time : 0.016s\n",
      "Mean train score : 0.977\n",
      "Mean CV score : 0.978\n",
      "Best Train Score : 0.719\n",
      "Best Test Score  : 0.730\n",
      "Best params :  {'alpha': 1.0}\n"
     ]
    }
   ],
   "source": [
    "mnb_clf = MultinomialNB()\n",
    "mnb_params = {'alpha': [0.1, 0.3, 0.5, 0.7, 0.9, 1.0]}\n",
    "y_pred = classifier_analyzer(mnb_clf, mnb_params)"
   ]
  },
  {
   "cell_type": "code",
   "execution_count": 54,
   "id": "11bb2bec",
   "metadata": {},
   "outputs": [
    {
     "name": "stdout",
     "output_type": "stream",
     "text": [
      "Classification Report for the best params : \n",
      "                     precision    recall  f1-score   support\n",
      "\n",
      "       crunches-end       0.54      0.49      0.51        75\n",
      "     crunches-start       0.53      0.57      0.55        75\n",
      "  jumping_jacks-end       1.00      1.00      1.00        75\n",
      "jumping_jacks-start       0.84      1.00      0.91        75\n",
      "         lunges-end       0.80      1.00      0.89        75\n",
      "       lunges-start       0.88      0.92      0.90        75\n",
      "      planks-planks       0.67      0.73      0.70       150\n",
      "      random-random       0.65      0.66      0.66       300\n",
      "         squats-end       1.00      0.28      0.44        75\n",
      "       squats-start       0.84      0.83      0.83        75\n",
      "\n",
      "           accuracy                           0.73      1050\n",
      "          macro avg       0.78      0.75      0.74      1050\n",
      "       weighted avg       0.74      0.73      0.72      1050\n",
      "\n"
     ]
    }
   ],
   "source": [
    "print(\"Classification Report for the best params : \")\n",
    "print(classification_report(y_test, y_pred, target_names=subclas_encoder.classes_))"
   ]
  },
  {
   "cell_type": "code",
   "execution_count": 55,
   "id": "b1485e60",
   "metadata": {},
   "outputs": [],
   "source": [
    "run_results.loc[run_results.shape[0]]=['MultiNomial NB', 0.020, 0.016, 0.977, \n",
    "                                                0.978, 0.719, 0.730, 0.73]"
   ]
  },
  {
   "cell_type": "code",
   "execution_count": 56,
   "id": "179442a3",
   "metadata": {},
   "outputs": [
    {
     "data": {
      "text/html": [
       "<div>\n",
       "<style scoped>\n",
       "    .dataframe tbody tr th:only-of-type {\n",
       "        vertical-align: middle;\n",
       "    }\n",
       "\n",
       "    .dataframe tbody tr th {\n",
       "        vertical-align: top;\n",
       "    }\n",
       "\n",
       "    .dataframe thead th {\n",
       "        text-align: right;\n",
       "    }\n",
       "</style>\n",
       "<table border=\"1\" class=\"dataframe\">\n",
       "  <thead>\n",
       "    <tr style=\"text-align: right;\">\n",
       "      <th></th>\n",
       "      <th>Classifier</th>\n",
       "      <th>Mean Fit Time(s)</th>\n",
       "      <th>Mean Test Time(s)</th>\n",
       "      <th>Mean Train Score</th>\n",
       "      <th>Mean CV Score</th>\n",
       "      <th>Best Train Score</th>\n",
       "      <th>Test Score</th>\n",
       "      <th>F1 Score</th>\n",
       "    </tr>\n",
       "  </thead>\n",
       "  <tbody>\n",
       "    <tr>\n",
       "      <th>1</th>\n",
       "      <td>kNN</td>\n",
       "      <td>0.007</td>\n",
       "      <td>0.121</td>\n",
       "      <td>1.000</td>\n",
       "      <td>1.000</td>\n",
       "      <td>1.000</td>\n",
       "      <td>1.000</td>\n",
       "      <td>1.00</td>\n",
       "    </tr>\n",
       "    <tr>\n",
       "      <th>2</th>\n",
       "      <td>SVM</td>\n",
       "      <td>2.284</td>\n",
       "      <td>0.112</td>\n",
       "      <td>0.814</td>\n",
       "      <td>0.814</td>\n",
       "      <td>1.000</td>\n",
       "      <td>1.000</td>\n",
       "      <td>1.00</td>\n",
       "    </tr>\n",
       "    <tr>\n",
       "      <th>4</th>\n",
       "      <td>XGBoost</td>\n",
       "      <td>4.729</td>\n",
       "      <td>0.125</td>\n",
       "      <td>1.000</td>\n",
       "      <td>1.000</td>\n",
       "      <td>1.000</td>\n",
       "      <td>0.990</td>\n",
       "      <td>1.00</td>\n",
       "    </tr>\n",
       "    <tr>\n",
       "      <th>0</th>\n",
       "      <td>Logistic Reg</td>\n",
       "      <td>0.726</td>\n",
       "      <td>0.013</td>\n",
       "      <td>1.000</td>\n",
       "      <td>1.000</td>\n",
       "      <td>0.998</td>\n",
       "      <td>0.991</td>\n",
       "      <td>0.99</td>\n",
       "    </tr>\n",
       "    <tr>\n",
       "      <th>3</th>\n",
       "      <td>SGD Classifier</td>\n",
       "      <td>0.108</td>\n",
       "      <td>0.014</td>\n",
       "      <td>0.992</td>\n",
       "      <td>0.992</td>\n",
       "      <td>0.984</td>\n",
       "      <td>0.974</td>\n",
       "      <td>0.97</td>\n",
       "    </tr>\n",
       "    <tr>\n",
       "      <th>5</th>\n",
       "      <td>MultiNomial NB</td>\n",
       "      <td>0.020</td>\n",
       "      <td>0.016</td>\n",
       "      <td>0.977</td>\n",
       "      <td>0.978</td>\n",
       "      <td>0.719</td>\n",
       "      <td>0.730</td>\n",
       "      <td>0.73</td>\n",
       "    </tr>\n",
       "  </tbody>\n",
       "</table>\n",
       "</div>"
      ],
      "text/plain": [
       "       Classifier  Mean Fit Time(s)  Mean Test Time(s)  Mean Train Score  Mean CV Score  Best Train Score  Test Score  F1 Score\n",
       "1             kNN             0.007              0.121             1.000          1.000             1.000       1.000      1.00\n",
       "2             SVM             2.284              0.112             0.814          0.814             1.000       1.000      1.00\n",
       "4         XGBoost             4.729              0.125             1.000          1.000             1.000       0.990      1.00\n",
       "0    Logistic Reg             0.726              0.013             1.000          1.000             0.998       0.991      0.99\n",
       "3  SGD Classifier             0.108              0.014             0.992          0.992             0.984       0.974      0.97\n",
       "5  MultiNomial NB             0.020              0.016             0.977          0.978             0.719       0.730      0.73"
      ]
     },
     "execution_count": 56,
     "metadata": {},
     "output_type": "execute_result"
    }
   ],
   "source": [
    "# Results on class \n",
    "run_results.sort_values(by=['F1 Score', 'Test Score'], ascending=False)"
   ]
  },
  {
   "cell_type": "code",
   "execution_count": null,
   "id": "8b3bb590",
   "metadata": {},
   "outputs": [],
   "source": []
  },
  {
   "cell_type": "code",
   "execution_count": 22,
   "id": "31415f3e",
   "metadata": {},
   "outputs": [],
   "source": [
    "from joblib import dump, load"
   ]
  },
  {
   "cell_type": "code",
   "execution_count": 21,
   "id": "a58e8477",
   "metadata": {},
   "outputs": [
    {
     "data": {
      "text/plain": [
       "['../resources/models/cascade/xgb_clf.model']"
      ]
     },
     "execution_count": 21,
     "metadata": {},
     "output_type": "execute_result"
    }
   ],
   "source": [
    "dump(xgb_clf , '../resources/models/cascade/xgb_clf.model')"
   ]
  },
  {
   "cell_type": "code",
   "execution_count": 24,
   "id": "3317123d",
   "metadata": {},
   "outputs": [
    {
     "data": {
      "text/plain": [
       "['../resources/models/cascade/knn_clf.model']"
      ]
     },
     "execution_count": 24,
     "metadata": {},
     "output_type": "execute_result"
    }
   ],
   "source": [
    "dump(knn_clf, '../resources/models/cascade/knn_clf.model')"
   ]
  },
  {
   "cell_type": "code",
   "execution_count": 25,
   "id": "f23d1f5d",
   "metadata": {},
   "outputs": [
    {
     "data": {
      "text/plain": [
       "['../resources/models/cascade/subclas_encoder.model']"
      ]
     },
     "execution_count": 25,
     "metadata": {},
     "output_type": "execute_result"
    }
   ],
   "source": [
    "dump(subclas_encoder, '../resources/models/cascade/subclas_encoder.model')"
   ]
  },
  {
   "cell_type": "code",
   "execution_count": 26,
   "id": "df5b5331",
   "metadata": {},
   "outputs": [
    {
     "data": {
      "text/plain": [
       "['../resources/models/cascade/clas_encoder.model']"
      ]
     },
     "execution_count": 26,
     "metadata": {},
     "output_type": "execute_result"
    }
   ],
   "source": [
    "dump(clas_encoder, '../resources/models/cascade/clas_encoder.model')"
   ]
  },
  {
   "cell_type": "code",
   "execution_count": null,
   "id": "bb9de05b",
   "metadata": {},
   "outputs": [],
   "source": []
  }
 ],
 "metadata": {
  "kernelspec": {
   "display_name": "Python 3",
   "language": "python",
   "name": "python3"
  },
  "language_info": {
   "codemirror_mode": {
    "name": "ipython",
    "version": 3
   },
   "file_extension": ".py",
   "mimetype": "text/x-python",
   "name": "python",
   "nbconvert_exporter": "python",
   "pygments_lexer": "ipython3",
   "version": "3.8.10"
  }
 },
 "nbformat": 4,
 "nbformat_minor": 5
}
