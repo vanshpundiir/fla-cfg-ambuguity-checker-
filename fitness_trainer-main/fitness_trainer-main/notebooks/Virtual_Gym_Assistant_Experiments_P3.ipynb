{
 "cells": [
  {
   "cell_type": "code",
   "execution_count": 1,
   "id": "52ea52df",
   "metadata": {},
   "outputs": [],
   "source": [
    "%matplotlib inline\n",
    "import os\n",
    "import cv2\n",
    "import time\n",
    "import numpy as np\n",
    "import mediapipe as mp\n",
    "import matplotlib.pyplot as plt\n",
    "from collections import namedtuple"
   ]
  },
  {
   "cell_type": "code",
   "execution_count": 2,
   "id": "fb949979",
   "metadata": {},
   "outputs": [],
   "source": [
    "from utils.frame_extractor import FrameExtractor"
   ]
  },
  {
   "cell_type": "code",
   "execution_count": 3,
   "id": "17ba92e5",
   "metadata": {},
   "outputs": [],
   "source": [
    "BodyJoint = namedtuple('BodyJoint', ['x','y','z','visibility'])"
   ]
  },
  {
   "cell_type": "code",
   "execution_count": 4,
   "id": "5e008d01",
   "metadata": {},
   "outputs": [],
   "source": [
    "joints_list = ['NOSE','LEFT_SHOULDER','RIGHT_SHOULDER','LEFT_HIP','RIGHT_HIP','LEFT_ELBOW','RIGHT_ELBOW'\n",
    "       ,'LEFT_WRIST','RIGHT_WRIST','LEFT_INDEX','RIGHT_INDEX','LEFT_KNEE','RIGHT_KNEE','LEFT_ANKLE'\n",
    "       ,'RIGHT_ANKLE','LEFT_FOOT_INDEX','RIGHT_FOOT_INDEX']"
   ]
  },
  {
   "cell_type": "code",
   "execution_count": 4,
   "id": "14fe9764",
   "metadata": {},
   "outputs": [],
   "source": [
    "fex = FrameExtractor()"
   ]
  },
  {
   "cell_type": "code",
   "execution_count": 6,
   "id": "3bcdb758",
   "metadata": {},
   "outputs": [],
   "source": [
    "mp_pose = mp.solutions.pose\n",
    "mp_drawing = mp.solutions.drawing_utils\n",
    "mp_drawing_styles = mp.solutions.drawing_styles"
   ]
  },
  {
   "cell_type": "code",
   "execution_count": 7,
   "id": "39a36119",
   "metadata": {},
   "outputs": [],
   "source": [
    "def draw_pose(image):\n",
    "  with mp_pose.Pose(min_detection_confidence=0.5, min_tracking_confidence=0.5) as pose:\n",
    "    # Recolor image to RGB\n",
    "    # image = cv2.cvtColor(frame, cv2.COLOR_BGR2RGB)\n",
    "    image.flags.writeable = False\n",
    "\n",
    "    # Make detection\n",
    "    results = pose.process(image)\n",
    "\n",
    "    # Recolor back to BGR\n",
    "    image.flags.writeable = True\n",
    "    # image = cv2.cvtColor(image, cv2.COLOR_RGB2BGR)\n",
    "    # image = frame.copy()\n",
    "\n",
    "    # Render detections\n",
    "    mp_drawing.draw_landmarks(image, results.pose_landmarks, mp_pose.POSE_CONNECTIONS,\n",
    "                        landmark_drawing_spec=mp_drawing_styles.get_default_pose_landmarks_style())\n",
    "\n",
    "    # mp_drawing.DrawingSpec(color=(245,117,66), thickness=2, circle_radius=2), \n",
    "    # mp_drawing.DrawingSpec(color=(245,66,230), thickness=2, circle_radius=2)\n",
    "  \n",
    "  return image"
   ]
  },
  {
   "cell_type": "code",
   "execution_count": 8,
   "id": "99675657",
   "metadata": {},
   "outputs": [],
   "source": [
    "ref_vid_path = './resources/videos/jumping_jacks.mp4'\n",
    "user_vid_path = './resources/videos/squats.mp4'"
   ]
  },
  {
   "cell_type": "code",
   "execution_count": 9,
   "id": "4560aba4",
   "metadata": {},
   "outputs": [],
   "source": [
    "ref_frames = fex.get_frames(ref_vid_path)"
   ]
  },
  {
   "cell_type": "code",
   "execution_count": 10,
   "id": "fe59e4e8",
   "metadata": {},
   "outputs": [],
   "source": [
    "user_frames = fex.get_frames(user_vid_path)"
   ]
  },
  {
   "cell_type": "code",
   "execution_count": 13,
   "id": "f4289f79",
   "metadata": {},
   "outputs": [],
   "source": [
    "# x1,y1,z1 = 0,-5,0\n",
    "# x2,y2,z2 = -5,5,0\n",
    "\n",
    "\n",
    "# np.cross([x1,y1,z1],[x2,y2,z2])\n",
    "\n",
    "# cosTh = np.dot([x1,y1,z1],[x2,y2,z2])/(np.linalg.norm([x1,y1,z1])*np.linalg.norm([x2,y2,z2]))\n",
    "# sinTh = np.cross([x1,y1,z1],[x2,y2,z2])/(np.linalg.norm([x1,y1,z1])*np.linalg.norm([x2,y2,z2]))\n",
    "# print(np.rad2deg(np.arctan2(sinTh,cosTh)))\n",
    "\n",
    "\n",
    "# dot = x1*x2 + y1*y2 + z1*z2    #between [x1, y1, z1] and [x2, y2, z2]\n",
    "# lenSq1 = x1*x1 + y1*y1 + z1*z1\n",
    "# lenSq2 = x2*x2 + y2*y2 + z2*z2\n",
    "# angle = math.acos(dot/math.sqrt(lenSq1 * lenSq2))\n",
    "\n",
    "# np.rad2deg(angle)"
   ]
  },
  {
   "cell_type": "code",
   "execution_count": 11,
   "id": "d934205c",
   "metadata": {},
   "outputs": [],
   "source": [
    "def get_joints_feats(joint1, joint2, joint3):\n",
    "  \"\"\"   returns the weighted average visibility of all the 3 joints and the \n",
    "        anti-clockwise angle formed by joint2 with joint1 and joint3\n",
    "  \"\"\"\n",
    "  ab = BodyJoint(joint1.x-joint2.x, joint1.y-joint2.y, joint1.z-joint2.z, \n",
    "                   min(joint1.visibility, joint2.visibility))\n",
    "  bc = BodyJoint(joint3.x-joint2.x, joint3.y-joint2.y, joint3.z-joint2.z,\n",
    "                   min(joint2.visibility, joint3.visibility))\n",
    "  dot_prod = (ab.x*bc.x)+(ab.y*bc.y)\n",
    "  mod_prod = np.sqrt((ab.x**2+ab.y**2)*(bc.x**2+bc.y**2))\n",
    "  angle = np.rad2deg(np.arccos(dot_prod/mod_prod))   # in degrees\n",
    "  \n",
    "  det = ab.x*bc.y - ab.y*bc.x   # determinant for correct quadrant\n",
    "  angle = 360-angle if det<0 else angle\n",
    "  visibility = ((1.25*joint1.visibility)+joint2.visibility+(1.25*joint3.visibility))/3.5\n",
    "  \n",
    "#   ab = BodyJoint(joint1.x-joint2.x, joint1.y-joint2.y, joint1.z-joint2.z, \n",
    "#                    (joint1.visibility+joint2.visibility)/2)\n",
    "#   bc = BodyJoint(joint3.x-joint2.x, joint3.y-joint2.y, joint3.z-joint2.z,\n",
    "#                    (joint2.visibility+joint3.visibility)/2)\n",
    "#   dot_prod = (ab.x*bc.x)+(ab.y*bc.y)+(ab.z*bc.z)\n",
    "#   mod_prod = np.sqrt((ab.x**2+ab.y**2+ab.z**2)*(bc.x**2+bc.y**2+bc.z**2))\n",
    "#   angle = np.rad2deg(np.arccos(dot_prod/mod_prod))   # in degrees\n",
    "  return (visibility, angle)"
   ]
  },
  {
   "cell_type": "code",
   "execution_count": 12,
   "id": "a4129688",
   "metadata": {},
   "outputs": [
    {
     "data": {
      "text/plain": [
       "(1.0, 45.00000000000001)"
      ]
     },
     "execution_count": 12,
     "metadata": {},
     "output_type": "execute_result"
    }
   ],
   "source": [
    "get_joints_feats(BodyJoint(0,-5,0, 1.0), BodyJoint(0,0,0,1.0), BodyJoint(5,-5,0,1.0))"
   ]
  },
  {
   "cell_type": "code",
   "execution_count": 13,
   "id": "b725f27a",
   "metadata": {},
   "outputs": [
    {
     "data": {
      "text/plain": [
       "(1.0, 90.0)"
      ]
     },
     "execution_count": 13,
     "metadata": {},
     "output_type": "execute_result"
    }
   ],
   "source": [
    "get_joints_feats(BodyJoint(0,-5,0, 1.0), BodyJoint(0,0,0,1.0), BodyJoint(5,0,0,1.0))"
   ]
  },
  {
   "cell_type": "code",
   "execution_count": 14,
   "id": "7aac06e4",
   "metadata": {},
   "outputs": [
    {
     "data": {
      "text/plain": [
       "(1.0, 180.0)"
      ]
     },
     "execution_count": 14,
     "metadata": {},
     "output_type": "execute_result"
    }
   ],
   "source": [
    "get_joints_feats(BodyJoint(0,-5,0, 1.0), BodyJoint(0,0,0,1.0), BodyJoint(0,5,0,1.0))"
   ]
  },
  {
   "cell_type": "code",
   "execution_count": 15,
   "id": "9796b219",
   "metadata": {},
   "outputs": [
    {
     "data": {
      "text/plain": [
       "(1.0, 315.0)"
      ]
     },
     "execution_count": 15,
     "metadata": {},
     "output_type": "execute_result"
    }
   ],
   "source": [
    "get_joints_feats(BodyJoint(0,-5,0, 1.0), BodyJoint(0,0,0,1.0), BodyJoint(-5,-5,0,1.0))"
   ]
  },
  {
   "cell_type": "code",
   "execution_count": 16,
   "id": "7766e360",
   "metadata": {},
   "outputs": [
    {
     "data": {
      "text/plain": [
       "(270, 90)"
      ]
     },
     "execution_count": 16,
     "metadata": {},
     "output_type": "execute_result"
    }
   ],
   "source": [
    "315-45, 360-270"
   ]
  },
  {
   "cell_type": "code",
   "execution_count": 17,
   "id": "25b2a544",
   "metadata": {},
   "outputs": [],
   "source": [
    "def get_joints_coordinates(pose_landmarks, frame_shape):\n",
    "  h, w = frame_shape[:2]\n",
    "  joints = list()\n",
    "  for joint_name in joints_list:\n",
    "    joint = pose_landmarks.landmark[mp_pose.PoseLandmark[joint_name]]\n",
    "    joint.x, joint.y, joint.z = joint.x*w, joint.y*h, joint.z*w\n",
    "    joints.append(joint)\n",
    "  \n",
    "  return joints"
   ]
  },
  {
   "cell_type": "code",
   "execution_count": 18,
   "id": "958aa5be",
   "metadata": {},
   "outputs": [],
   "source": [
    "def get_frame_features(frame):\n",
    "  \"\"\"   returns the visibility and angle features given a frame   \"\"\"\n",
    "  features = list()\n",
    "  with mp_pose.Pose(min_detection_confidence=0.5, min_tracking_confidence=0.5) as pose:\n",
    "    frame = cv2.cvtColor(frame, cv2.COLOR_RGB2BGR)\n",
    "    results = pose.process(frame)\n",
    "    \n",
    "    if results.pose_landmarks is not None:\n",
    "      (nose, left_shoulder, right_shoulder, left_hip, right_hip, left_elbow, right_elbow\n",
    "      , left_wrist, right_wrist, left_index, right_index, left_knee, right_knee, left_ankle\n",
    "      , right_ankle, left_foot_idx, right_foot_idx) = get_joints_coordinates(results.pose_landmarks, frame.shape)\n",
    "      \n",
    "      # Scale Up\n",
    "#       nose.x, nose.y = nose.x*frame.shape[1], nose.y*frame.shape[0]\n",
    "#       left_shoulder.x, left_shoulder.y = left_shoulder.x*frame.shape[1], left_shoulder.y*frame.shape[0]\n",
    "#       right_shoulder.x, right_shoulder.y = right_shoulder.x*frame.shape[1], right_shoulder.y*frame.shape[0]\n",
    "#       left_hip.x, left_hip.y = left_hip.x*frame.shape[1], left_hip.y*frame.shape[0]\n",
    "#       right_hip.x, right_hip.y = right_hip.x*frame.shape[1], right_hip.y*frame.shape[0]\n",
    "#       left_elbow.x, left_elbow.y = left_elbow.x*frame.shape[1], left_elbow.y*frame.shape[0]\n",
    "#       right_elbow.x, right_elbow.y = right_elbow.x*frame.shape[1], right_elbow.y*frame.shape[0]\n",
    "#       left_wrist.x, left_wrist.y = left_wrist.x*frame.shape[1], left_wrist.y*frame.shape[0]\n",
    "#       right_wrist.x, right_wrist.y = right_wrist.x*frame.shape[1], right_wrist.y*frame.shape[0]\n",
    "#       left_index.x, left_index.y = left_index.x*frame.shape[1], left_index.y*frame.shape[0]\n",
    "#       right_index.x, right_index.y = right_index.x*frame.shape[1], right_index.y*frame.shape[0]\n",
    "#       left_knee.x, left_knee.y = left_knee.x*frame.shape[1], left_knee.y*frame.shape[0]\n",
    "#       right_knee.x, right_knee.y = right_knee.x*frame.shape[1], right_knee.y*frame.shape[0]\n",
    "#       left_ankle.x, left_ankle.y = left_ankle.x*frame.shape[1], left_ankle.y*frame.shape[0]\n",
    "#       right_ankle.x, right_ankle.y = right_ankle.x*frame.shape[1], right_ankle.y*frame.shape[0]\n",
    "#       left_foot_idx.x, left_foot_idx.y = left_foot_idx.x*frame.shape[1], left_foot_idx.y*frame.shape[0]\n",
    "#       right_foot_idx.x, right_foot_idx.y = right_foot_idx.x*frame.shape[1], right_foot_idx.y*frame.shape[0]\n",
    "\n",
    "      #for pt in points_list:\n",
    "      #  visibility_features.append(results.pose_landmarks.landmark[mp_pose.PoseLandmark[pt]].visibility)\n",
    "\n",
    "      # angle between mid-point of shoulders and nose\n",
    "      mid_shoulder = BodyJoint((left_shoulder.x+right_shoulder.x)/2,\n",
    "                               (left_shoulder.y+right_shoulder.y)/2,\n",
    "                               (left_shoulder.z+right_shoulder.z)/2,\n",
    "                               (left_shoulder.visibility+right_shoulder.visibility)/2)\n",
    "      #ang_midshoulders_nose = get_joints_feats(nose, mid_shoulder, left_shoulder)\n",
    "      features.append(get_joints_feats(nose, mid_shoulder, left_shoulder))\n",
    "\n",
    "      # angle made by line joining the mid-point of hips and mid-point of shoulders with the ground\n",
    "      mid_hips = BodyJoint((left_hip.x+right_hip.x)/2, \n",
    "                           (left_hip.y+right_hip.y)/2,\n",
    "                           (left_hip.z+right_hip.z)/2,\n",
    "                           (left_hip.visibility+right_hip.visibility)/2)\n",
    "      ground = BodyJoint(mid_hips.x, frame.shape[1], mid_hips.z, 0.9)\n",
    "      #ang_backbone_ground = angle_between_joints(mid_shoulder, mid_hips, ground)\n",
    "      features.append(get_joints_feats(mid_shoulder, mid_hips, ground))\n",
    "\n",
    "      # angle left-hip, left-shoulder, left-elbow\n",
    "      #ang_lhip_lshoulder_lelbow = angle_between_joints(left_hip, left_shoulder, left_elbow)\n",
    "      features.append(get_joints_feats(left_hip, left_shoulder, left_elbow))\n",
    "\n",
    "      # angle right-hip, right-shoulder, right-elbow\n",
    "      #ang_rhip_rshoulder_relbow = angle_between_joints(right_hip, right_shoulder, right_elbow)\n",
    "      features.append(get_joints_feats(right_hip, right_shoulder, right_elbow))\n",
    "\n",
    "      # angle right-shoulder, left-shoulder, left-elbow\n",
    "      #ang_rshoulder_lshoulder_lelbow = angle_between_joints(right_shoulder, left_shoulder, left_elbow)\n",
    "      features.append(get_joints_feats(right_shoulder, left_shoulder, left_elbow))\n",
    "\n",
    "      # angle left-shoulder, right-shoulder, right-elbow\n",
    "      #ang_lshoulder_rshoulder_relbow = angle_between_joints(left_shoulder, right_shoulder, right_elbow)\n",
    "      features.append(get_joints_feats(left_shoulder, right_shoulder, right_elbow))\n",
    "\n",
    "      # angle left-shoulder, left-elbow, left-wrist\n",
    "      #ang_lshoulder_lelbow_lwrist = angle_between_joints(left_shoulder, left_elbow, left_wrist)\n",
    "      features.append(get_joints_feats(left_shoulder, left_elbow, left_wrist))\n",
    "\n",
    "      # angle right-shoulder, right-elbow, right-wrist\n",
    "      #ang_rshoulder_relbow_rwrist = angle_between_joints(right_shoulder, right_elbow, right_wrist)\n",
    "      features.append(get_joints_feats(right_shoulder, right_elbow, right_wrist))\n",
    "\n",
    "      # angle right-elbow, right-wrist, right-index\n",
    "      #ang_relbow_rwrist_rindex = angle_between_joints(right_elbow, right_wrist, right_index)\n",
    "      features.append(get_joints_feats(right_elbow, right_wrist, right_index))\n",
    "\n",
    "      # angle left-elbow, left-wrist, left-index\n",
    "      # ang_lelbow_lwrist_lindex = angle_between_joints(left_elbow, left_wrist, left_index)\n",
    "      features.append(get_joints_feats(left_elbow, left_wrist, left_index))\n",
    "\n",
    "      # angle left-shoulder, left-hip, right-hip\n",
    "      #ang_lshoulder_lhip_rhip = angle_between_joints(left_shoulder, left_hip, right_hip)\n",
    "      features.append(get_joints_feats(left_shoulder, left_hip, right_hip))\n",
    "\n",
    "      # angle right-shoulder, right-hip, left-hip\n",
    "      # ang_rshoulder_rhip_lhip = angle_between_joints(right_shoulder, right_hip, left_hip)\n",
    "      features.append(get_joints_feats(right_shoulder, right_hip, left_hip))\n",
    "\n",
    "      # angle left-hip, right-hip, right-knee\n",
    "      #ang_lhip_rhip_rknee = angle_between_joints(left_hip, right_hip, right_knee)\n",
    "      features.append(get_joints_feats(left_hip, right_hip, right_knee))\n",
    "\n",
    "      # angle right-hip, left-hip, left-knee\n",
    "      #ang_rhip_lhip_lknee = angle_between_joints(right_hip, left_hip, left_knee)\n",
    "      features.append(get_joints_feats(right_hip, left_hip, left_knee))\n",
    "\n",
    "      # angle right-hip, right-knee, right-ankle\n",
    "      #ang_rhip_rknee_rankle = angle_between_joints(right_hip, right_knee, right_ankle)\n",
    "      features.append(get_joints_feats(right_hip, right_knee, right_ankle))\n",
    "\n",
    "      # angle left-hip, left-knee, left-ankle\n",
    "      #ang_lhip_lknee_lankle = angle_between_joints(left_hip, left_knee, left_ankle)\n",
    "      features.append(get_joints_feats(left_hip, left_knee, left_ankle))\n",
    "\n",
    "      # angle right-knee, right-ankle, right-footindex\n",
    "      #ang_rknee_rankle_rfootIdx = angle_between_joints(right_knee, right_ankle, right_foot_idx)\n",
    "      features.append(get_joints_feats(right_knee, right_ankle, right_foot_idx))\n",
    "\n",
    "      # angle left-knee, left-ankle, left-footIndex\n",
    "      #ang_lknee_lankle_lfootIdx = angle_between_joints(left_knee, left_ankle, left_foot_idx)\n",
    "      features.append(get_joints_feats(left_knee, left_ankle, left_foot_idx))\n",
    "\n",
    "      #angle_features = [ang_midshoulders_nose, ang_backbone_ground, ang_lhip_lshoulder_lelbow, \n",
    "      #                  ang_rhip_rshoulder_relbow, ang_rshoulder_lshoulder_lelbow, \n",
    "      #                 ang_lshoulder_rshoulder_relbow, ang_lshoulder_lelbow_lwrist, \n",
    "      #                 ang_rshoulder_relbow_rwrist, ang_relbow_rwrist_rindex, ang_lelbow_lwrist_lindex,\n",
    "      #                  ang_lshoulder_lhip_rhip, ang_rshoulder_rhip_lhip, ang_lhip_rhip_rknee, \n",
    "      #                  ang_rhip_lhip_lknee, ang_rhip_rknee_rankle, ang_lhip_lknee_lankle, \n",
    "      #                  ang_rknee_rankle_rfootIdx, ang_lknee_lankle_lfootIdx]\n",
    "  \n",
    "  #return visibility_features, angle_features\n",
    "  return features"
   ]
  },
  {
   "cell_type": "code",
   "execution_count": 77,
   "id": "edcd0e25",
   "metadata": {},
   "outputs": [],
   "source": [
    "# # ref_frames, ref_features = list(), list()\n",
    "# while vid_reader.isOpened():\n",
    "#   success, frame = vid_reader.read()\n",
    "#   if success:\n",
    "#     frame = cv2.cvtColor(frame, cv2.COLOR_RGB2BGR)\n",
    "#     ref_frames.append(frame)\n",
    "    \n",
    "#     with mp_pose.Pose(min_detection_confidence=0.5, min_tracking_confidence=0.5) as pose:\n",
    "#       results = pose.process(frame)\n",
    "      \n",
    "#       nose=results.pose_landmarks.landmark[mp_pose.PoseLandmark['NOSE']]\n",
    "#       left_shoulder=results.pose_landmarks.landmark[mp_pose.PoseLandmark['LEFT_SHOULDER']]\n",
    "#       right_shoulder=results.pose_landmarks.landmark[mp_pose.PoseLandmark['RIGHT_SHOULDER']]\n",
    "#       left_hip=results.pose_landmarks.landmark[mp_pose.PoseLandmark['LEFT_HIP']]\n",
    "#       right_hip=results.pose_landmarks.landmark[mp_pose.PoseLandmark['RIGHT_HIP']]\n",
    "#       left_elbow=results.pose_landmarks.landmark[mp_pose.PoseLandmark['LEFT_ELBOW']]\n",
    "#       right_elbow=results.pose_landmarks.landmark[mp_pose.PoseLandmark['RIGHT_ELBOW']]\n",
    "#       left_wrist=results.pose_landmarks.landmark[mp_pose.PoseLandmark['LEFT_WRIST']]\n",
    "#       right_wrist=results.pose_landmarks.landmark[mp_pose.PoseLandmark['RIGHT_WRIST']]\n",
    "#       left_index=results.pose_landmarks.landmark[mp_pose.PoseLandmark['LEFT_INDEX']]\n",
    "#       right_index=results.pose_landmarks.landmark[mp_pose.PoseLandmark['RIGHT_INDEX']]\n",
    "#       left_knee=results.pose_landmarks.landmark[mp_pose.PoseLandmark['LEFT_KNEE']]\n",
    "#       right_knee=results.pose_landmarks.landmark[mp_pose.PoseLandmark['RIGHT_KNEE']]\n",
    "#       left_ankle=results.pose_landmarks.landmark[mp_pose.PoseLandmark['LEFT_ANKLE']]\n",
    "#       right_ankle=results.pose_landmarks.landmark[mp_pose.PoseLandmark['RIGHT_ANKLE']]\n",
    "#       left_foot_idx=results.pose_landmarks.landmark[mp_pose.PoseLandmark['LEFT_FOOT_INDEX']]\n",
    "#       right_foot_idx=results.pose_landmarks.landmark[mp_pose.PoseLandmark['RIGHT_FOOT_INDEX']]\n",
    "      \n",
    "#       not_visible=list()\n",
    "#       for pt in points_list:\n",
    "#         if results.pose_landmarks.landmark[mp_pose.PoseLandmark[pt]].visibility <= 0.5:\n",
    "#           print(\"%s not visible.\" %pt)\n",
    "      \n",
    "#       # angle between mid-point of shoulders and nose\n",
    "#       mid_shoulder = BodyJoint((left_shoulder.x+right_shoulder.x)/2, (left_shoulder.y+right_shoulder.y)/2)\n",
    "#       ang_midshoulders_nose = angle_between_joints(nose, mid_shoulder, left_shoulder)\n",
    "#       print(\"%s - %s\" %(\"ang_midshoulders_nose\", ang_midshoulders_nose))\n",
    "      \n",
    "#       # angle made by line joining the mid-point of hips and mid-point of shoulders with the ground\n",
    "#       mid_hips = BodyJoint((left_hip.x+right_hip.x)/2, (left_hip.y+right_hip.y)/2)\n",
    "#       ground = BodyJoint(mid_hips.x, 1.0)\n",
    "#       ang_backbone_ground = angle_between_joints(mid_shoulder, mid_hips, ground)\n",
    "#       print(\"%s - %s\" %(\"ang_backbone_ground\", ang_backbone_ground))\n",
    "      \n",
    "#       # angle left-hip, left-shoulder, left-elbow\n",
    "#       ang_lhip_lshoulder_lelbow = angle_between_joints(left_hip, left_shoulder, left_elbow)\n",
    "#       print(\"%s - %s\" %(\"ang_lhip_lshoulder_lelbow\", ang_lhip_lshoulder_lelbow))\n",
    "      \n",
    "#       # angle right-hip, right-shoulder, right-elbow\n",
    "#       ang_rhip_rshoulder_relbow = angle_between_joints(right_hip, right_shoulder, right_elbow)\n",
    "#       print(\"%s - %s\" %(\"ang_rhip_rshoulder_relbow\", ang_rhip_rshoulder_relbow))\n",
    "      \n",
    "#       # angle right-shoulder, left-shoulder, left-elbow\n",
    "#       ang_rshoulder_lshoulder_lelbow = angle_between_joints(right_shoulder, left_shoulder, left_elbow)\n",
    "#       print(\"%s - %s\" %(\"ang_rshoulder_lshoulder_lelbow\", ang_rshoulder_lshoulder_lelbow))\n",
    "      \n",
    "#       # angle left-shoulder, right-shoulder, right-elbow\n",
    "#       ang_lshoulder_rshoulder_relbow = angle_between_joints(left_shoulder, right_shoulder, right_elbow)\n",
    "#       print(\"%s - %s\" %(\"ang_lshoulder_rshoulder_relbow\", ang_lshoulder_rshoulder_relbow))\n",
    "      \n",
    "#       # angle left-shoulder, left-elbow, left-wrist\n",
    "#       ang_lshoulder_lelbow_lwrist = angle_between_joints(left_shoulder, left_elbow, left_wrist)\n",
    "#       print(\"%s - %s\" %(\"ang_lshoulder_lelbow_lwrist\", ang_lshoulder_lelbow_lwrist))\n",
    "      \n",
    "#       # angle right-shoulder, right-elbow, right-wrist\n",
    "#       ang_rshoulder_relbow_rwrist = angle_between_joints(right_shoulder, right_elbow, right_wrist)\n",
    "#       print(\"%s - %s\" %(\"ang_rshoulder_relbow_rwrist\", ang_rshoulder_relbow_rwrist))\n",
    "      \n",
    "#       # angle right-elbow, right-wrist, right-index\n",
    "#       ang_relbow_rwrist_rindex = angle_between_joints(right_elbow, right_wrist, right_index)\n",
    "#       print(\"%s - %s\" %(\"ang_relbow_rwrist_rindex\", ang_relbow_rwrist_rindex))\n",
    "      \n",
    "#       # angle left-elbow, left-wrist, left-index\n",
    "#       ang_lelbow_lwrist_lindex = angle_between_joints(left_elbow, left_wrist, left_index)\n",
    "#       print(\"%s - %s\" %(\"ang_lelbow_lwrist_lindex\", ang_lelbow_lwrist_lindex))\n",
    "      \n",
    "#       # angle left-shoulder, left-hip, right-hip\n",
    "#       ang_lshoulder_lhip_rhip = angle_between_joints(left_shoulder, left_hip, right_hip)\n",
    "#       print(\"%s - %s\" %(\"ang_lshoulder_lhip_rhip\", ang_lshoulder_lhip_rhip))\n",
    "      \n",
    "#       # angle right-shoulder, right-hip, left-hip\n",
    "#       ang_rshoulder_rhip_lhip = angle_between_joints(right_shoulder, right_hip, left_hip)\n",
    "#       print(\"%s - %s\" %(\"ang_rshoulder_rhip_lhip\", ang_rshoulder_rhip_lhip))\n",
    "      \n",
    "#       # angle left-hip, right-hip, right-knee\n",
    "#       ang_lhip_rhip_rknee = angle_between_joints(left_hip, right_hip, right_knee)\n",
    "#       print(\"%s - %s\" %(\"ang_lhip_rhip_rknee\", ang_lhip_rhip_rknee))\n",
    "      \n",
    "#       # angle right-hip, left-hip, left-knee\n",
    "#       ang_rhip_lhip_lknee = angle_between_joints(right_hip, left_hip, left_knee)\n",
    "#       print(\"%s - %s\" %(\"ang_lhip_rhip_rknee\", ang_rhip_lhip_lknee))\n",
    "      \n",
    "#       # angle right-hip, right-knee, right-ankle\n",
    "#       ang_rhip_rknee_rankle = angle_between_joints(right_hip, right_knee, right_ankle)\n",
    "#       print(\"%s - %s\" %(\"ang_rhip_rknee_rankle\", ang_rhip_rknee_rankle))\n",
    "      \n",
    "#       # angle left-hip, left-knee, left-ankle\n",
    "#       ang_lhip_lknee_lankle = angle_between_joints(left_hip, left_knee, left_ankle)\n",
    "#       print(\"%s - %s\" %(\"ang_lhip_lknee_lankle\", ang_lhip_lknee_lankle))\n",
    "      \n",
    "#       # angle right-knee, right-ankle, right-footindex\n",
    "#       ang_rknee_rankle_rfootIdx = angle_between_joints(right_knee, right_ankle, right_foot_idx)\n",
    "#       print(\"%s - %s\" %(\"ang_rknee_rankle_rfootIdx\", ang_rknee_rankle_rfootIdx))\n",
    "      \n",
    "#       # angle left-knee, left-ankle, left-footIndex\n",
    "#       ang_lknee_lankle_lfootIdx = angle_between_joints(left_knee, left_ankle, left_foot_idx)\n",
    "#       print(\"%s - %s\" %(\"ang_lknee_lankle_lfootIdx\", ang_lknee_lankle_lfootIdx))\n",
    "      \n",
    "#     break\n",
    "#   else:\n",
    "#     break"
   ]
  },
  {
   "cell_type": "code",
   "execution_count": 19,
   "id": "057ed5a2",
   "metadata": {},
   "outputs": [
    {
     "name": "stdout",
     "output_type": "stream",
     "text": [
      "<class 'mediapipe.python.solution_base.SolutionOutputs'>\n"
     ]
    }
   ],
   "source": [
    "with mp_pose.Pose(min_detection_confidence=0.5, min_tracking_confidence=0.5) as pose:\n",
    "  frame = cv2.cvtColor(user_frames[16], cv2.COLOR_RGB2BGR)\n",
    "  results = pose.process(frame)\n",
    "  print(results)"
   ]
  },
  {
   "cell_type": "code",
   "execution_count": 21,
   "id": "a64451c9",
   "metadata": {},
   "outputs": [],
   "source": [
    "left_shoulder = results.pose_landmarks.landmark[mp_pose.PoseLandmark['LEFT_SHOULDER']]\n",
    "left_hip = results.pose_landmarks.landmark[mp_pose.PoseLandmark['LEFT_HIP']]\n",
    "left_elbow = results.pose_landmarks.landmark[mp_pose.PoseLandmark['LEFT_ELBOW']]"
   ]
  },
  {
   "cell_type": "code",
   "execution_count": 22,
   "id": "4ffcf02d",
   "metadata": {},
   "outputs": [
    {
     "data": {
      "text/plain": [
       "(x: 0.33609825372695923\n",
       " y: 0.2650182843208313\n",
       " z: 0.3996557891368866\n",
       " visibility: 0.9971309304237366,\n",
       " x: 0.3131299316883087\n",
       " y: 0.5118165612220764\n",
       " z: 0.27868741750717163\n",
       " visibility: 0.9920163154602051,\n",
       " x: 0.49505653977394104\n",
       " y: 0.32687753438949585\n",
       " z: 0.557437539100647\n",
       " visibility: 0.3342360258102417)"
      ]
     },
     "execution_count": 22,
     "metadata": {},
     "output_type": "execute_result"
    }
   ],
   "source": [
    "left_shoulder, left_hip, left_elbow"
   ]
  },
  {
   "cell_type": "code",
   "execution_count": 23,
   "id": "561d6963",
   "metadata": {},
   "outputs": [],
   "source": [
    "h, w = frame.shape[:2]"
   ]
  },
  {
   "cell_type": "code",
   "execution_count": 24,
   "id": "d2b00f1d",
   "metadata": {},
   "outputs": [],
   "source": [
    "left_shoulder.x, left_shoulder.y = left_shoulder.x*w, left_shoulder.y*h\n",
    "left_hip.x, left_hip.y = left_hip.x*w, left_hip.y*h\n",
    "left_elbow.x, left_elbow.y = left_elbow.x*w, left_elbow.y*h"
   ]
  },
  {
   "cell_type": "code",
   "execution_count": 23,
   "id": "c5022df7",
   "metadata": {},
   "outputs": [
    {
     "data": {
      "image/png": "[encoded data removed]",
      "text/plain": [
       "<Figure size 432x288 with 1 Axes>"
      ]
     },
     "metadata": {},
     "output_type": "display_data"
    }
   ],
   "source": [
    "plt.imshow(draw_pose(cv2.cvtColor(user_frames[16], cv2.COLOR_RGB2BGR)))\n",
    "plt.plot(left_shoulder.x, left_shoulder.y, 'go')\n",
    "plt.plot(left_hip.x, left_hip.y, 'ro')\n",
    "plt.plot(left_elbow.x, left_elbow.y, 'ro')\n",
    "plt.xticks([])\n",
    "plt.yticks([])\n",
    "plt.show()"
   ]
  },
  {
   "cell_type": "code",
   "execution_count": 44,
   "id": "aedccf95",
   "metadata": {},
   "outputs": [
    {
     "data": {
      "text/plain": [
       "(0.9988426395824977, 40.33419602747899)"
      ]
     },
     "execution_count": 44,
     "metadata": {},
     "output_type": "execute_result"
    }
   ],
   "source": [
    "get_joints_feats(left_elbow, left_shoulder, left_hip)"
   ]
  },
  {
   "cell_type": "code",
   "execution_count": 45,
   "id": "77704e82",
   "metadata": {},
   "outputs": [
    {
     "data": {
      "text/plain": [
       "(0.9988426395824977, 319.665803972521)"
      ]
     },
     "execution_count": 45,
     "metadata": {},
     "output_type": "execute_result"
    }
   ],
   "source": [
    "get_joints_feats(left_hip, left_shoulder, left_elbow)"
   ]
  },
  {
   "cell_type": "code",
   "execution_count": 81,
   "id": "825b46c1",
   "metadata": {},
   "outputs": [],
   "source": [
    "# (960*0.4777287244796753), (540*0.07690232992172241)"
   ]
  },
  {
   "cell_type": "code",
   "execution_count": 82,
   "id": "138ceb8d",
   "metadata": {},
   "outputs": [],
   "source": [
    "# results.pose_landmarks is None"
   ]
  },
  {
   "cell_type": "code",
   "execution_count": 83,
   "id": "394fd828",
   "metadata": {},
   "outputs": [],
   "source": [
    "# results.pose_landmarks.landmark[mp_pose.PoseLandmark['LEFT_EYE']]"
   ]
  },
  {
   "cell_type": "code",
   "execution_count": 26,
   "id": "1b7af9d0",
   "metadata": {},
   "outputs": [],
   "source": [
    "ref_frames_features = [get_frame_features(frame) for frame in ref_frames]"
   ]
  },
  {
   "cell_type": "code",
   "execution_count": 63,
   "id": "f5033aef",
   "metadata": {},
   "outputs": [],
   "source": [
    "# def get_similarity(user_angle_feats, ref_angle_feats):\n",
    "#   diff = 0.0\n",
    "#   for uangle, rangle in zip(user_angle_feats, ref_angle_feats):\n",
    "#     diff += min(abs(uangle-rangle), 360-abs(uangle-rangle))/180\n",
    "#   diff /= len(user_angle_feats)\n",
    "#   return 1.0-diff"
   ]
  },
  {
   "cell_type": "code",
   "execution_count": 60,
   "id": "54311bf7",
   "metadata": {},
   "outputs": [],
   "source": [
    "def get_similarity(ref_feats, user_feats):\n",
    "  ref_feats, user_feats = np.array(ref_feats, dtype=np.float32),np.array(user_feats, dtype=np.float32)\n",
    "  # absolute difference of visibility and angle features\n",
    "  diff = np.abs(ref_feats - user_feats)\n",
    "  # normalise the angle features\n",
    "  diff[:,1]=np.apply_along_axis(lambda n: min(n[1], 360-n[1])/360.0, axis=1, arr=diff)\n",
    "  # take average over all rows and then, final weighted average of visibility and angle\n",
    "  diff = diff.mean(axis=0).flatten()\n",
    "  #diff = (diff[0]+(1.5*diff[1]))/2.5\n",
    "  return 1-diff[1]"
   ]
  },
  {
   "cell_type": "code",
   "execution_count": 29,
   "id": "9947b5e1",
   "metadata": {},
   "outputs": [
    {
     "data": {
      "text/plain": [
       "0.9444444440305233"
      ]
     },
     "execution_count": 29,
     "metadata": {},
     "output_type": "execute_result"
    }
   ],
   "source": [
    "get_similarity([(1, 10),(0, 10)], [(0, 20), (1, 0)])"
   ]
  },
  {
   "cell_type": "code",
   "execution_count": null,
   "id": "3e4f02f1",
   "metadata": {},
   "outputs": [],
   "source": [
    "# window = 0\n",
    "# for uframe in user_frames:\n",
    "#   plt.imshow(cv2.cvtColor(uframe, cv2.COLOR_RGB2BGR))\n",
    "#   plt.xticks([])\n",
    "#   plt.yticks([])\n",
    "#   plt.show()\n",
    "  \n",
    "#   visibility_feats, user_angle_feats = get_frame_features(uframe)\n",
    "#   if not (len(visibility_feats) > 0 and len(user_angle_feats) > 0):\n",
    "#     print(\"Could not extract features\")\n",
    "#     continue\n",
    "  \n",
    "#   # check visibility\n",
    "#   not_visible = list()\n",
    "#   for i,pt in enumerate(points_list):\n",
    "#     if ref_frames_features[0][0][i] >= 0.5:\n",
    "#       if visibility_feats[i]-ref_frames_features[0][0][i] < -0.2:\n",
    "#         not_visible.append(points_list[i])\n",
    "  \n",
    "#   if len(not_visible)>0:\n",
    "#     print(\"Parts not visible : %s\" %','.join(not_visible))\n",
    "#     continue\n",
    "  \n",
    "#   # check closest frame from the window\n",
    "#   # for i range(window, window+5):\n",
    "#   similarity = np.array([get_similarity(user_angle_feats, ref_angle_feats) for _, ref_angle_feats in ref_frames_features])\n",
    "#   print(similarity.max(), similarity.argmax())\n",
    "#   print(\"\\n\", \"-\"*100, \"\\n\")"
   ]
  },
  {
   "cell_type": "code",
   "execution_count": 24,
   "id": "6d88c946",
   "metadata": {},
   "outputs": [],
   "source": [
    "uh,uw,uc = user_frames[0].shape\n",
    "rh,rw,rc = ref_frames[0].shape"
   ]
  },
  {
   "cell_type": "code",
   "execution_count": 25,
   "id": "7eb9b32d",
   "metadata": {},
   "outputs": [
    {
     "data": {
      "text/plain": [
       "(540, 960, 3)"
      ]
     },
     "execution_count": 25,
     "metadata": {},
     "output_type": "execute_result"
    }
   ],
   "source": [
    "np.pad(ref_frames[0], (((uh-rh)//2,abs(rh-uh)//2),((uw-rw)//2,abs(rw-uw)//2), (0,0)), mode='constant' ).shape"
   ]
  },
  {
   "cell_type": "code",
   "execution_count": 26,
   "id": "a2044d72",
   "metadata": {},
   "outputs": [
    {
     "data": {
      "text/plain": [
       "(540, 1920, 3)"
      ]
     },
     "execution_count": 26,
     "metadata": {},
     "output_type": "execute_result"
    }
   ],
   "source": [
    "np.hstack((np.pad(ref_frames[0], (((uh-rh)//2,abs(rh-uh)//2),((uw-rw)//2,abs(rw-uw)//2), (0,0)), mode='constant' ), user_frames[3])).shape"
   ]
  },
  {
   "cell_type": "code",
   "execution_count": 30,
   "id": "ba053e2c",
   "metadata": {},
   "outputs": [
    {
     "name": "stdout",
     "output_type": "stream",
     "text": [
      "Ui: 0   Window: 0\n",
      "Global:  0.8646797090768814 12\n",
      "Local:  0.8574407547712326 2\n",
      "\n",
      " ---------------------------------------------------------------------------------------------------- \n",
      "\n",
      "Ui: 1   Window: 1\n",
      "Global:  0.8894104585051537 12\n",
      "Local:  0.8837717771530151 2\n",
      "\n",
      " ---------------------------------------------------------------------------------------------------- \n",
      "\n",
      "Ui: 2   Window: 2\n",
      "Global:  0.8877042233943939 12\n",
      "Local:  0.8844516649842262 2\n",
      "\n",
      " ---------------------------------------------------------------------------------------------------- \n",
      "\n",
      "Ui: 3   Window: 3\n",
      "Global:  0.8848637714982033 12\n",
      "Local:  0.8808059543371201 3\n",
      "\n",
      " ---------------------------------------------------------------------------------------------------- \n",
      "\n",
      "Ui: 4   Window: 4\n",
      "Global:  0.7834715396165848 12\n",
      "Local:  0.7826050221920013 4\n",
      "\n",
      " ---------------------------------------------------------------------------------------------------- \n",
      "\n",
      "Ui: 5   Window: 5\n",
      "Global:  0.7518268972635269 4\n",
      "Local:  0.7431285381317139 5\n",
      "\n",
      " ---------------------------------------------------------------------------------------------------- \n",
      "\n",
      "Ui: 6   Window: 6\n",
      "Global:  0.709446132183075 5\n",
      "Local:  0.704966813325882 10\n",
      "\n",
      " ---------------------------------------------------------------------------------------------------- \n",
      "\n",
      "Ui: 7   Window: 7\n",
      "Global:  0.7089840471744537 4\n",
      "Local:  0.6985780000686646 11\n",
      "\n",
      " ---------------------------------------------------------------------------------------------------- \n",
      "\n",
      "Ui: 8   Window: 8\n",
      "Global:  0.6890342533588409 4\n",
      "Local:  0.6756595075130463 12\n",
      "\n",
      " ---------------------------------------------------------------------------------------------------- \n",
      "\n",
      "Ui: 9   Window: 9\n",
      "Global:  0.6506777703762054 4\n",
      "Local:  0.6406131088733673 0\n",
      "\n",
      " ---------------------------------------------------------------------------------------------------- \n",
      "\n",
      "Ui: 10   Window: 10\n",
      "Global:  0.64151331782341 4\n",
      "Local:  0.6383629441261292 1\n",
      "\n",
      " ---------------------------------------------------------------------------------------------------- \n",
      "\n",
      "Ui: 11   Window: 11\n",
      "Global:  0.5842734277248383 1\n",
      "Local:  0.5842734277248383 1\n",
      "\n",
      " ---------------------------------------------------------------------------------------------------- \n",
      "\n",
      "Ui: 12   Window: 12\n",
      "Global:  0.637204498052597 4\n",
      "Local:  0.6340827345848083 2\n",
      "\n",
      " ---------------------------------------------------------------------------------------------------- \n",
      "\n",
      "Ui: 13   Window: 0\n",
      "Global:  0.6544342041015625 4\n",
      "Local:  0.6544342041015625 4\n",
      "\n",
      " ---------------------------------------------------------------------------------------------------- \n",
      "\n",
      "Ui: 14   Window: 1\n",
      "Global:  0.7026248872280121 4\n",
      "Local:  0.7026248872280121 4\n",
      "\n",
      " ---------------------------------------------------------------------------------------------------- \n",
      "\n",
      "Ui: 15   Window: 2\n",
      "Global:  0.7482296228408813 4\n",
      "Local:  0.7482296228408813 4\n",
      "\n",
      " ---------------------------------------------------------------------------------------------------- \n",
      "\n",
      "Ui: 16   Window: 3\n",
      "Global:  0.7720817476511002 4\n",
      "Local:  0.7720817476511002 4\n",
      "\n",
      " ---------------------------------------------------------------------------------------------------- \n",
      "\n",
      "Ui: 17   Window: 4\n",
      "Global:  0.8651045262813568 12\n",
      "Local:  0.860053539276123 4\n",
      "\n",
      " ---------------------------------------------------------------------------------------------------- \n",
      "\n",
      "Ui: 18   Window: 5\n",
      "Global:  0.8908123001456261 12\n",
      "Local:  0.8155928403139114 5\n",
      "\n",
      " ---------------------------------------------------------------------------------------------------- \n",
      "\n",
      "Ui: 19   Window: 6\n",
      "Global:  0.8978358954191208 12\n",
      "Local:  0.7778403162956238 6\n",
      "\n",
      " ---------------------------------------------------------------------------------------------------- \n",
      "\n"
     ]
    }
   ],
   "source": [
    "window = 0\n",
    "for ui,uframe in enumerate(user_frames):\n",
    "  #plt.imshow(cv2.cvtColor(uframe, cv2.COLOR_RGB2BGR))\n",
    "  #plt.xticks([])\n",
    "  #plt.yticks([])\n",
    "  #plt.show()\n",
    "  \n",
    "  user_feats = get_frame_features(uframe)\n",
    "  if len(user_feats)==0:\n",
    "    print(\"Could not extract features\")\n",
    "  else:\n",
    "    # check closest frame from the window\n",
    "    #for i range(window, window+5):\n",
    "    #  i = i%len(ref_frames)\n",
    "    similarity = np.array([get_similarity(ref_feats, user_feats) for ref_feats in ref_frames_features])\n",
    "    print(\"Ui: %d   Window: %d\" %(ui, window))\n",
    "    print(\"Global: \", similarity.max(), similarity.argmax())\n",
    "    sieve = np.array([similarity[i%len(ref_frames)] for i in range(window,window+5)])\n",
    "    print(\"Local: \", sieve.max(), (window+sieve.argmax())%len(ref_frames))\n",
    "    \n",
    "    #plt.imshow(cv2.cvtColor(ref_frames[similarity.argmax()], cv2.COLOR_RGB2BGR))\n",
    "    #plt.xticks([])\n",
    "    #plt.yticks([])\n",
    "    #plt.show()\n",
    "  window = (window+1)%len(ref_frames)\n",
    "  print(\"\\n\", \"-\"*100, \"\\n\")"
   ]
  },
  {
   "cell_type": "code",
   "execution_count": 47,
   "id": "ec5a51c4",
   "metadata": {},
   "outputs": [],
   "source": [
    "# ref_frames_features[7]"
   ]
  },
  {
   "cell_type": "code",
   "execution_count": 54,
   "id": "855008d8",
   "metadata": {},
   "outputs": [],
   "source": [
    "# _ref_feats = ref_frames_features[7]\n",
    "# _user_feats = [(0.9849603772163391, 85.98550399571235), (0.9966110488772393, 355.8803126665982), (0.9879913479089737, 199.31412311143987), (0.9893830269575119, 155.00033181575157), (0.9881830662488937, 93.50544381443436), (0.9882072508335114, 217.81535709475625), (0.9692826867103577, 154.82516055227094), (0.9763399809598923, 201.02244780345788), (0.9778915345668793, 194.11656102270751), (0.9405477046966553, 165.23385234958087), (0.9982949942350388, 276.81742185049285), (0.9996624886989594, 108.19371727448267), (0.9499147236347198, 76.65274734432269), (0.8889579474925995, 253.81682356989637), (0.666413988918066, 181.72954157517125), (0.5364383249543607, 183.50237050009832), (0.24789253994822502, 184.2069556427396), (0.1686700927093625, 192.5339314488513)]"
   ]
  },
  {
   "cell_type": "code",
   "execution_count": 55,
   "id": "33de9533",
   "metadata": {},
   "outputs": [],
   "source": [
    "# get_similarity([r[1] for r in _ref_feats], [r[1] for r in _user_feats])"
   ]
  },
  {
   "cell_type": "code",
   "execution_count": 56,
   "id": "ec8ca73f",
   "metadata": {},
   "outputs": [],
   "source": [
    "# diff = 0.0\n",
    "# for uangle, rangle in zip(_user_feats, _ref_feats):\n",
    "#   vis_diff = abs(uangle[0]-rangle[0])\n",
    "#   ang_diff = min(abs(uangle[1]-rangle[1]), 360-abs(uangle[1]-rangle[1]))/180\n",
    "#   print(vis_diff*ang_diff)\n",
    "#   diff += vis_diff*ang_diff\n",
    "# diff /= len(_user_feats)\n",
    "\n",
    "\n",
    "# diff = [0.0, 0.0]\n",
    "# for uf, rf in zip(_user_feats, _ref_feats):\n",
    "#   vis_diff = abs(uf[0]-rf[0])\n",
    "#   ang_diff = min(abs(uf[1]-rf[1]), 360-abs(uf[1]-rf[1]))/180\n",
    "#   diff[0] += vis_diff\n",
    "#   diff[1] += ang_diff\n",
    "#   #diff += vis_diff*ang_diff\n",
    "#   #print(vis_diff, ang_diff*180)\n",
    "# diff[0] /= len(_user_feats)\n",
    "# diff[1] /= len(_user_feats)\n",
    "# print(1-((diff[0]+diff[1])/2))"
   ]
  },
  {
   "cell_type": "code",
   "execution_count": 7,
   "id": "6b67f99e",
   "metadata": {},
   "outputs": [],
   "source": [
    "# i = 0\n",
    "# while vid_reader.isOpened():\n",
    "#   success, frame = vid_reader.read()\n",
    "#   if success:\n",
    "#     frame = cv2.cvtColor(frame, cv2.COLOR_RGB2BGR)\n",
    "#     frame = draw_pose(frame)\n",
    "#     plt.imshow(frame)\n",
    "#     plt.xticks([])\n",
    "#     plt.yticks([])\n",
    "#     plt.title('Frame %d' %(i+1))\n",
    "#     plt.show()\n",
    "#     i += 1\n",
    "#   else:\n",
    "#     break"
   ]
  },
  {
   "cell_type": "code",
   "execution_count": 46,
   "id": "9e8f887f",
   "metadata": {},
   "outputs": [
    {
     "data": {
      "image/png": "[encoded data removed]",
      "text/plain": [
       "<Figure size 432x288 with 1 Axes>"
      ]
     },
     "metadata": {},
     "output_type": "display_data"
    }
   ],
   "source": [
    "plt.imshow(draw_pose(cv2.cvtColor(user_frames[16], cv2.COLOR_RGB2BGR)))\n",
    "plt.xticks([])\n",
    "plt.yticks([])\n",
    "plt.show()"
   ]
  },
  {
   "cell_type": "code",
   "execution_count": 23,
   "id": "f2e8ede6",
   "metadata": {},
   "outputs": [
    {
     "data": {
      "image/png": "[encoded data removed]",
      "text/plain": [
       "<Figure size 432x288 with 1 Axes>"
      ]
     },
     "metadata": {},
     "output_type": "display_data"
    }
   ],
   "source": [
    "plt.imshow(draw_pose(cv2.cvtColor(ref_frames[4], cv2.COLOR_RGB2BGR)))\n",
    "plt.xticks([])\n",
    "plt.yticks([])\n",
    "plt.show()"
   ]
  },
  {
   "cell_type": "code",
   "execution_count": 24,
   "id": "b39a38dd",
   "metadata": {},
   "outputs": [
    {
     "data": {
      "text/plain": [
       "[(0.9982067857469831, 113.64790253034813),\n",
       " (0.9617259630135128, 175.95975507201678),\n",
       " (0.75855610200337, 293.7276367992637),\n",
       " (0.9959346694605691, 290.68506515571505),\n",
       " (0.7613020241260529, 148.00148514024448),\n",
       " (0.997045487165451, 325.13337080807094),\n",
       " (0.6265518601451602, 174.00930537713143),\n",
       " (0.99159089582307, 175.4099812181356),\n",
       " (0.9766971596649715, 169.6575312464405),\n",
       " (0.43226756155490875, 154.03730159938095),\n",
       " (0.9945587941578456, 242.25232759035458),\n",
       " (0.9953349019799914, 62.077870278979525),\n",
       " (0.9915294221469334, 94.5840957231051),\n",
       " (0.8039764229740415, 275.0314051062035),\n",
       " (0.9914868303707668, 211.62081875169312),\n",
       " (0.726456058876855, 209.92397217636164),\n",
       " (0.9875223636627197, 99.49668378422973),\n",
       " (0.652478215949876, 103.78780798326531)]"
      ]
     },
     "execution_count": 24,
     "metadata": {},
     "output_type": "execute_result"
    }
   ],
   "source": [
    "get_frame_features(user_frames[16])"
   ]
  },
  {
   "cell_type": "code",
   "execution_count": 25,
   "id": "fbfc27e5",
   "metadata": {},
   "outputs": [
    {
     "data": {
      "text/plain": [
       "[(0.9999760985374451, 92.40757080711514),\n",
       " (0.9640647087778363, 179.59461412795224),\n",
       " (0.9988426395824977, 319.665803972521),\n",
       " (0.9961172427449908, 35.79418061055891),\n",
       " (0.9990538103239877, 235.9096567146636),\n",
       " (0.9963765868118831, 114.75296301522378),\n",
       " (0.9974700510501862, 170.35240453640853),\n",
       " (0.9901294835976192, 186.11115358776541),\n",
       " (0.9766923359462193, 178.26224545275863),\n",
       " (0.9927106201648712, 180.35383444827386),\n",
       " (0.9995334190981728, 261.2959241245534),\n",
       " (0.9995176110948835, 98.58099446203113),\n",
       " (0.9982234878199441, 91.70177705248778),\n",
       " (0.9981690900666373, 265.52637654729074),\n",
       " (0.9965208215372903, 177.04062660952982),\n",
       " (0.9971690305641719, 179.403357871181),\n",
       " (0.993307249886649, 180.9180255316041),\n",
       " (0.994940630027226, 185.05714132973765)]"
      ]
     },
     "execution_count": 25,
     "metadata": {},
     "output_type": "execute_result"
    }
   ],
   "source": [
    "get_frame_features(ref_frames[4])"
   ]
  },
  {
   "cell_type": "code",
   "execution_count": 47,
   "id": "e91715f3",
   "metadata": {},
   "outputs": [],
   "source": [
    "_f1 = np.array([f[1] for f in get_frame_features(user_frames[16])])\n",
    "_f2 = np.array([f[1] for f in get_frame_features(user_frames[12])])"
   ]
  },
  {
   "cell_type": "code",
   "execution_count": 31,
   "id": "444f5dce",
   "metadata": {},
   "outputs": [
    {
     "data": {
      "text/plain": [
       "(18,)"
      ]
     },
     "execution_count": 31,
     "metadata": {},
     "output_type": "execute_result"
    }
   ],
   "source": [
    "_f1.shape"
   ]
  },
  {
   "cell_type": "code",
   "execution_count": 27,
   "id": "3c95e288",
   "metadata": {},
   "outputs": [],
   "source": [
    "from sklearn.metrics.pairwise import cosine_similarity"
   ]
  },
  {
   "cell_type": "code",
   "execution_count": 48,
   "id": "27992b23",
   "metadata": {},
   "outputs": [
    {
     "data": {
      "text/plain": [
       "array([[0.90196089]])"
      ]
     },
     "execution_count": 48,
     "metadata": {},
     "output_type": "execute_result"
    }
   ],
   "source": [
    "cosine_similarity(_f1.reshape(1,-1)/360, _f2.reshape(1,-1)/360)"
   ]
  },
  {
   "cell_type": "code",
   "execution_count": 49,
   "id": "126bd5b8",
   "metadata": {},
   "outputs": [
    {
     "data": {
      "text/plain": [
       "array([113.64790253, 175.95975507, 293.7276368 , 290.68506516,\n",
       "       148.00148514, 325.13337081, 174.00930538, 175.40998122,\n",
       "       169.65753125, 154.0373016 , 242.25232759,  62.07787028,\n",
       "        94.58409572, 275.03140511, 211.62081875, 209.92397218,\n",
       "        99.49668378, 103.78780798])"
      ]
     },
     "execution_count": 49,
     "metadata": {},
     "output_type": "execute_result"
    }
   ],
   "source": [
    "_f1"
   ]
  },
  {
   "cell_type": "code",
   "execution_count": 50,
   "id": "0729c476",
   "metadata": {},
   "outputs": [
    {
     "data": {
      "text/plain": [
       "array([  5.71145267, 152.34784003, 232.25852085, 233.64595488,\n",
       "       217.53649221,  39.59405134, 174.746562  , 173.42181791,\n",
       "       164.70552775, 177.5332893 , 193.66158108,  12.99145598,\n",
       "        46.70650318, 226.80820669, 301.55991095, 301.97534723,\n",
       "        78.67172372,  86.3658577 ])"
      ]
     },
     "execution_count": 50,
     "metadata": {},
     "output_type": "execute_result"
    }
   ],
   "source": [
    "_f2"
   ]
  },
  {
   "cell_type": "code",
   "execution_count": 51,
   "id": "cc490ecb",
   "metadata": {},
   "outputs": [
    {
     "data": {
      "text/plain": [
       "array([107.93644986,  23.61191505,  61.46911595,  57.03911027,\n",
       "        69.53500707, 285.53931946,   0.73725663,   1.98816331,\n",
       "         4.9520035 ,  23.4959877 ,  48.59074651,  49.0864143 ,\n",
       "        47.87759254,  48.22319842,  89.9390922 ,  92.05137505,\n",
       "        20.82496006,  17.42195028])"
      ]
     },
     "execution_count": 51,
     "metadata": {},
     "output_type": "execute_result"
    }
   ],
   "source": [
    "np.abs(_f1-_f2)"
   ]
  },
  {
   "cell_type": "code",
   "execution_count": 54,
   "id": "2369d7fc",
   "metadata": {},
   "outputs": [
    {
     "data": {
      "text/plain": [
       "0.32417273400652324"
      ]
     },
     "execution_count": 54,
     "metadata": {},
     "output_type": "execute_result"
    }
   ],
   "source": [
    "np.mean(np.abs(_f1-_f2)/180)"
   ]
  },
  {
   "cell_type": "code",
   "execution_count": null,
   "id": "5b91ceec",
   "metadata": {},
   "outputs": [],
   "source": []
  },
  {
   "cell_type": "code",
   "execution_count": null,
   "id": "a2c759dd",
   "metadata": {},
   "outputs": [],
   "source": []
  }
 ],
 "metadata": {
  "kernelspec": {
   "display_name": "Python 3",
   "language": "python",
   "name": "python3"
  },
  "language_info": {
   "codemirror_mode": {
    "name": "ipython",
    "version": 3
   },
   "file_extension": ".py",
   "mimetype": "text/x-python",
   "name": "python",
   "nbconvert_exporter": "python",
   "pygments_lexer": "ipython3",
   "version": "3.8.10"
  }
 },
 "nbformat": 4,
 "nbformat_minor": 5
}
